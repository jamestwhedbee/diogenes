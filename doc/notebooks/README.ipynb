{
 "metadata": {
  "name": "",
  "signature": "sha256:97a69bf7305e7ee11f8c6d1cabf9058c4ed1405a7f6071f9170fcb685f4a4eae"
 },
 "nbformat": 3,
 "nbformat_minor": 0,
 "worksheets": [
  {
   "cells": [
    {
     "cell_type": "code",
     "collapsed": false,
     "input": [
      "%matplotlib inline\n",
      "import diogenes\n",
      "import numpy as np"
     ],
     "language": "python",
     "metadata": {},
     "outputs": [],
     "prompt_number": 50
    },
    {
     "cell_type": "markdown",
     "metadata": {},
     "source": [
      "Get data from wine quality data set"
     ]
    },
    {
     "cell_type": "code",
     "collapsed": false,
     "input": [
      "data = diogenes.read.open_csv_url(\n",
      "    'http://archive.ics.uci.edu/ml/machine-learning-databases/wine-quality/winequality-white.csv',\n",
      "    delimiter=';')"
     ],
     "language": "python",
     "metadata": {},
     "outputs": [],
     "prompt_number": 51
    },
    {
     "cell_type": "markdown",
     "metadata": {},
     "source": [
      "Note that data is a [Numpy structured array](http://docs.scipy.org/doc/numpy/user/basics.rec.html) We can use it like this:"
     ]
    },
    {
     "cell_type": "code",
     "collapsed": false,
     "input": [
      "data.dtype.names"
     ],
     "language": "python",
     "metadata": {},
     "outputs": [
      {
       "metadata": {},
       "output_type": "pyout",
       "prompt_number": 52,
       "text": [
        "('fixed acidity',\n",
        " 'volatile acidity',\n",
        " 'citric acid',\n",
        " 'residual sugar',\n",
        " 'chlorides',\n",
        " 'free sulfur dioxide',\n",
        " 'total sulfur dioxide',\n",
        " 'density',\n",
        " 'pH',\n",
        " 'sulphates',\n",
        " 'alcohol',\n",
        " 'quality')"
       ]
      }
     ],
     "prompt_number": 52
    },
    {
     "cell_type": "code",
     "collapsed": false,
     "input": [
      "print data.shape"
     ],
     "language": "python",
     "metadata": {},
     "outputs": [
      {
       "output_type": "stream",
       "stream": "stdout",
       "text": [
        "(4898,)\n"
       ]
      }
     ],
     "prompt_number": 53
    },
    {
     "cell_type": "code",
     "collapsed": false,
     "input": [
      "print data['fixed acidity']"
     ],
     "language": "python",
     "metadata": {},
     "outputs": [
      {
       "output_type": "stream",
       "stream": "stdout",
       "text": [
        "[ 7.   6.3  8.1 ...,  6.5  5.5  6. ]\n"
       ]
      }
     ],
     "prompt_number": 54
    },
    {
     "cell_type": "markdown",
     "metadata": {},
     "source": [
      "We separate our labels from the rest of the data and turn our labels into binary classes."
     ]
    },
    {
     "cell_type": "code",
     "collapsed": false,
     "input": [
      "labels = data['quality']\n",
      "labels = labels < np.average(labels)\n",
      "print labels"
     ],
     "language": "python",
     "metadata": {},
     "outputs": [
      {
       "output_type": "stream",
       "stream": "stdout",
       "text": [
        "[False False False ..., False False False]\n"
       ]
      }
     ],
     "prompt_number": 55
    },
    {
     "cell_type": "markdown",
     "metadata": {},
     "source": [
      "Remove the labels from the rest of our data"
     ]
    },
    {
     "cell_type": "code",
     "collapsed": false,
     "input": [
      "M = diogenes.modify.remove_cols(data, 'quality')\n",
      "print M.dtype.names"
     ],
     "language": "python",
     "metadata": {},
     "outputs": [
      {
       "output_type": "stream",
       "stream": "stdout",
       "text": [
        "('fixed acidity', 'volatile acidity', 'citric acid', 'residual sugar', 'chlorides', 'free sulfur dioxide', 'total sulfur dioxide', 'density', 'pH', 'sulphates', 'alcohol')\n"
       ]
      }
     ],
     "prompt_number": 56
    },
    {
     "cell_type": "markdown",
     "metadata": {},
     "source": [
      "Print summary statistics for our features"
     ]
    },
    {
     "cell_type": "code",
     "collapsed": false,
     "input": [
      "diogenes.display.pprint_sa(diogenes.display.describe_cols(M))"
     ],
     "language": "python",
     "metadata": {},
     "outputs": [
      {
       "output_type": "stream",
       "stream": "stdout",
       "text": [
        "            Column Name Count            Mean     Standard Dev Minimum Maximum\n",
        " 0        fixed acidity  4898   6.85478766844   0.843782079126     3.8    14.2\n",
        " 1     volatile acidity  4898  0.278241118824   0.100784258542    0.08     1.1\n",
        " 2          citric acid  4898  0.334191506737    0.12100744957     0.0    1.66\n",
        " 3       residual sugar  4898   6.39141486321    5.07153998933     0.6    65.8\n",
        " 4            chlorides  4898 0.0457723560637  0.0218457376851   0.009   0.346\n",
        " 5  free sulfur dioxide  4898   35.3080849326    17.0054011058     2.0   289.0\n",
        " 6 total sulfur dioxide  4898   138.360657411    42.4937260248     9.0   440.0\n",
        " 7              density  4898   0.99402737648 0.00299060158215 0.98711 1.03898\n",
        " 8                   pH  4898   3.18826663944   0.150985184312    2.72    3.82\n",
        " 9            sulphates  4898  0.489846876276   0.114114183106    0.22    1.08\n",
        "10              alcohol  4898   10.5142670478    1.23049493654     8.0    14.2\n"
       ]
      }
     ],
     "prompt_number": 57
    },
    {
     "cell_type": "markdown",
     "metadata": {},
     "source": [
      "Plot correlation between features"
     ]
    },
    {
     "cell_type": "code",
     "collapsed": false,
     "input": [
      "fig = diogenes.display.plot_correlation_matrix(M)"
     ],
     "language": "python",
     "metadata": {},
     "outputs": [
      {
       "metadata": {},
       "output_type": "display_data",
       "png": "[encoded data removed]",
       "text": [
        "<matplotlib.figure.Figure at 0x108df3b90>"
       ]
      }
     ],
     "prompt_number": 58
    },
    {
     "cell_type": "markdown",
     "metadata": {},
     "source": [
      "Arrange an experiment trying different classifiers"
     ]
    },
    {
     "cell_type": "code",
     "collapsed": false,
     "input": [
      "exp = diogenes.grid_search.experiment.Experiment(\n",
      "    M,\n",
      "    labels,\n",
      "    clfs=diogenes.grid_search.standard_clfs.std_clfs)"
     ],
     "language": "python",
     "metadata": {},
     "outputs": [],
     "prompt_number": 59
    },
    {
     "cell_type": "markdown",
     "metadata": {},
     "source": [
      "Make a pdf report"
     ]
    },
    {
     "cell_type": "code",
     "collapsed": false,
     "input": [
      "exp.make_report(verbose=False)"
     ],
     "language": "python",
     "metadata": {},
     "outputs": [
      {
       "output_type": "stream",
       "stream": "stderr",
       "text": [
        "/Library/Python/2.7/site-packages/sklearn/svm/base.py:204: ConvergenceWarning: Solver terminated early (max_iter=1000).  Consider pre-processing your data with StandardScaler or MinMaxScaler.\n",
        "  % self.max_iter, ConvergenceWarning)\n",
        "/Library/Python/2.7/site-packages/sklearn/svm/base.py:204: ConvergenceWarning: Solver terminated early (max_iter=1000).  Consider pre-processing your data with StandardScaler or MinMaxScaler.\n",
        "  % self.max_iter, ConvergenceWarning)\n"
       ]
      },
      {
       "metadata": {},
       "output_type": "pyout",
       "prompt_number": 60,
       "text": [
        "'/Users/zar1/dssg/diogenes/report.pdf'"
       ]
      }
     ],
     "prompt_number": 60
    },
    {
     "cell_type": "markdown",
     "metadata": {},
     "source": [
      "Find the trial with the best score and make an ROC curve"
     ]
    },
    {
     "cell_type": "code",
     "collapsed": false,
     "input": [
      "trials_with_score = exp.average_score()\n",
      "best_trial, best_score = max(trials_with_score.iteritems(), key=lambda trial_and_score: trial_and_score[1])\n",
      "print best_trial\n",
      "print best_score"
     ],
     "language": "python",
     "metadata": {},
     "outputs": [
      {
       "output_type": "stream",
       "stream": "stdout",
       "text": [
        "Trial(clf=<class 'sklearn.ensemble.forest.RandomForestClassifier'>, clf_params={'n_estimators': 50, 'max_features': 'sqrt', 'n_jobs': 1, 'max_depth': 7}, subset=<class 'diogenes.grid_search.subset.SubsetNoSubset'>, subset_params={}, cv=<class 'sklearn.cross_validation.KFold'>, cv_params={})\n",
        "0.756236767007\n"
       ]
      }
     ],
     "prompt_number": 61
    },
    {
     "cell_type": "code",
     "collapsed": false,
     "input": [
      "fig = best_trial.roc_curve()"
     ],
     "language": "python",
     "metadata": {},
     "outputs": [
      {
       "metadata": {},
       "output_type": "display_data",
       "png": "[encoded data removed]",
       "text": [
        "<matplotlib.figure.Figure at 0x108d4c050>"
       ]
      }
     ],
     "prompt_number": 62
    },
    {
     "cell_type": "code",
     "collapsed": false,
     "input": [],
     "language": "python",
     "metadata": {},
     "outputs": [],
     "prompt_number": 62
    }
   ],
   "metadata": {}
  }
 ]
}