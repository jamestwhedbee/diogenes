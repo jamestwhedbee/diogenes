{
 "metadata": {
  "name": "",
  "signature": "sha256:dc0b37438b669b90c5937b36a618f6f0649802dc220b882543498f94f0b52fa2"
 },
 "nbformat": 3,
 "nbformat_minor": 0,
 "worksheets": [
  {
   "cells": [
    {
     "cell_type": "markdown",
     "metadata": {},
     "source": [
      "# The Display Module\n",
      "\n",
      "The :mod:`diogenes.display` module provides tools for summarizing/exploring data and the performance of trained classifiers."
     ]
    },
    {
     "cell_type": "markdown",
     "metadata": {},
     "source": [
      "## Exploring data\n",
      "\n",
      "Display provides a number of tools for examining data before they have been fit to classifiers.\n",
      "\n",
      "We'll start by pulling and organizing the wine dataset. We read a CSV from The Internet using :func:`diogenes.read.read.open_csv_url`."
     ]
    },
    {
     "cell_type": "code",
     "collapsed": false,
     "input": [
      "%matplotlib inline\n",
      "import diogenes\n",
      "import numpy as np\n",
      "\n",
      "wine_data = diogenes.read.open_csv_url('http://archive.ics.uci.edu/ml/machine-learning-databases/wine-quality/winequality-white.csv',\n",
      "    delimiter=';')"
     ],
     "language": "python",
     "metadata": {},
     "outputs": [],
     "prompt_number": 8
    },
    {
     "cell_type": "markdown",
     "metadata": {},
     "source": [
      "We will then separate labels from features using :func:`diogenes.modify.modify.remove_cols`."
     ]
    },
    {
     "cell_type": "code",
     "collapsed": false,
     "input": [
      "labels = wine_data['quality']\n",
      "M = diogenes.modify.remove_cols(wine_data, 'quality')"
     ],
     "language": "python",
     "metadata": {},
     "outputs": [],
     "prompt_number": 9
    },
    {
     "cell_type": "markdown",
     "metadata": {},
     "source": [
      "Finally, we alter labels to make this into a binary classification problem. (At this point, all Diogenes features are available for binary classification, but other kinds of ML have more limited support)."
     ]
    },
    {
     "cell_type": "code",
     "collapsed": false,
     "input": [
      "labels = labels < np.average(labels)"
     ],
     "language": "python",
     "metadata": {},
     "outputs": [],
     "prompt_number": 10
    },
    {
     "cell_type": "markdown",
     "metadata": {},
     "source": [
      "We can look at our summary statistics with :func:`diogenes.display.display.describe_cols`. Like most functions in Diogenes, `describe_cols` produces a Numpy [structured array](http://docs.scipy.org/doc/numpy/user/basics.rec.html)."
     ]
    },
    {
     "cell_type": "code",
     "collapsed": false,
     "input": [
      "summary_stats = diogenes.display.describe_cols(M)\n",
      "print summary_stats.dtype"
     ],
     "language": "python",
     "metadata": {},
     "outputs": [
      {
       "output_type": "stream",
       "stream": "stdout",
       "text": [
        "[('Column Name', 'S20'), ('Count', '<i8'), ('Mean', '<f8'), ('Standard Dev', '<f8'), ('Minimum', '<f8'), ('Maximum', '<f8')]\n"
       ]
      }
     ],
     "prompt_number": 14
    },
    {
     "cell_type": "code",
     "collapsed": false,
     "input": [
      "print summary_stats"
     ],
     "language": "python",
     "metadata": {},
     "outputs": [
      {
       "output_type": "stream",
       "stream": "stdout",
       "text": [
        "[('fixed acidity', 4898, 6.854787668436097, 0.8437820791264506, 3.8, 14.2)\n",
        " ('volatile acidity', 4898, 0.27824111882400976, 0.10078425854188974, 0.08, 1.1)\n",
        " ('citric acid', 4898, 0.33419150673744386, 0.12100744957029214, 0.0, 1.66)\n",
        " ('residual sugar', 4898, 6.391414863209474, 5.071539989333933, 0.6, 65.8)\n",
        " ('chlorides', 4898, 0.04577235606369947, 0.02184573768505638, 0.009000000000000001, 0.34600000000000003)\n",
        " ('free sulfur dioxide', 4898, 35.30808493262556, 17.005401105808414, 2.0, 289.0)\n",
        " ('total sulfur dioxide', 4898, 138.36065741118824, 42.49372602475034, 9.0, 440.0)\n",
        " ('density', 4898, 0.9940273764801959, 0.0029906015821480306, 0.98711, 1.03898)\n",
        " ('pH', 4898, 3.1882666394446715, 0.15098518431212068, 2.72, 3.82)\n",
        " ('sulphates', 4898, 0.48984687627603113, 0.1141141831056649, 0.22, 1.08)\n",
        " ('alcohol', 4898, 10.514267047774602, 1.2304949365418656, 8.0, 14.2)]\n"
       ]
      }
     ],
     "prompt_number": 13
    },
    {
     "cell_type": "markdown",
     "metadata": {},
     "source": [
      "It's a bit confusing to figure out which numbers go to which statistics using default structured array printing, so we provide :func:`diogenes.display.display.pprint_sa` to make it more readable when we print small structured arrays."
     ]
    },
    {
     "cell_type": "code",
     "collapsed": false,
     "input": [
      "diogenes.display.pprint_sa(summary_stats)"
     ],
     "language": "python",
     "metadata": {},
     "outputs": [
      {
       "output_type": "stream",
       "stream": "stdout",
       "text": [
        "            Column Name Count            Mean     Standard Dev Minimum Maximum\n",
        " 0        fixed acidity  4898   6.85478766844   0.843782079126     3.8    14.2\n",
        " 1     volatile acidity  4898  0.278241118824   0.100784258542    0.08     1.1\n",
        " 2          citric acid  4898  0.334191506737    0.12100744957     0.0    1.66\n",
        " 3       residual sugar  4898   6.39141486321    5.07153998933     0.6    65.8\n",
        " 4            chlorides  4898 0.0457723560637  0.0218457376851   0.009   0.346\n",
        " 5  free sulfur dioxide  4898   35.3080849326    17.0054011058     2.0   289.0\n",
        " 6 total sulfur dioxide  4898   138.360657411    42.4937260248     9.0   440.0\n",
        " 7              density  4898   0.99402737648 0.00299060158215 0.98711 1.03898\n",
        " 8                   pH  4898   3.18826663944   0.150985184312    2.72    3.82\n",
        " 9            sulphates  4898  0.489846876276   0.114114183106    0.22    1.08\n",
        "10              alcohol  4898   10.5142670478    1.23049493654     8.0    14.2\n"
       ]
      }
     ],
     "prompt_number": 15
    },
    {
     "cell_type": "markdown",
     "metadata": {},
     "source": [
      "Similarly, we have a number of tools that visualize data. They all return figures, in case the user wants to save them or plot them later."
     ]
    },
    {
     "cell_type": "code",
     "collapsed": false,
     "input": [
      "figure = diogenes.display.plot_correlation_matrix(M)\n",
      "figure = diogenes.display.plot_correlation_scatter_plot(M)"
     ],
     "language": "python",
     "metadata": {},
     "outputs": [
      {
       "metadata": {},
       "output_type": "display_data",
       "png": "[encoded data removed]",
       "text": [
        "<matplotlib.figure.Figure at 0x1078a3a10>"
       ]
      },
      {
       "metadata": {},
       "output_type": "display_data",
       "png": "[encoded data removed]",
       "text": [
        "<matplotlib.figure.Figure at 0x109756250>"
       ]
      }
     ],
     "prompt_number": 19
    },
    {
     "cell_type": "markdown",
     "metadata": {},
     "source": [
      "There are also a number of tools for exploring the distribution of data in a single column (ie a 1-dimensional Numpy array)"
     ]
    },
    {
     "cell_type": "code",
     "collapsed": false,
     "input": [
      "chlorides = M['chlorides']\n",
      "\n",
      "figure = diogenes.display.plot_box_plot(chlorides)\n",
      "figure = diogenes.display.plot_kernel_density(chlorides)\n",
      "figure = diogenes.display.plot_simple_histogram(chorides)"
     ],
     "language": "python",
     "metadata": {},
     "outputs": [
      {
       "metadata": {},
       "output_type": "display_data",
       "png": "[encoded data removed]",
       "text": [
        "<matplotlib.figure.Figure at 0x10845a710>"
       ]
      },
      {
       "metadata": {},
       "output_type": "display_data",
       "png": "[encoded data removed]",
       "text": [
        "<matplotlib.figure.Figure at 0x1077cb890>"
       ]
      },
      {
       "metadata": {},
       "output_type": "display_data",
       "png": "[encoded data removed]",
       "text": [
        "<matplotlib.figure.Figure at 0x1097f4250>"
       ]
      }
     ],
     "prompt_number": 25
    },
    {
     "cell_type": "code",
     "collapsed": false,
     "input": [
      "diogenes.display.pprint_sa(diogenes.display.crosstab(np.round(chlorides, 1), labels))"
     ],
     "language": "python",
     "metadata": {},
     "outputs": [
      {
       "output_type": "stream",
       "stream": "stdout",
       "text": [
        "  col1_value False True\n",
        "0        0.0  2668 1067\n",
        "1        0.1   562  541\n",
        "2        0.2    27   28\n",
        "3        0.3     1    4\n"
       ]
      }
     ],
     "prompt_number": 34
    },
    {
     "cell_type": "markdown",
     "metadata": {},
     "source": [
      "## Examining classifier performance.\n",
      "\n",
      "First, we will arrange and execute a quick grid_search experiment with :class:`diogenes.grid_search.experiment.Experiment`. This will run Random Forest on our data with a number of different hyper-parameters and a number of different train/test splits. See documentation for grid_search for more detail."
     ]
    },
    {
     "cell_type": "code",
     "collapsed": false,
     "input": [
      "from sklearn.ensemble import RandomForestClassifier\n",
      "clfs = [{'clf': RandomForestClassifier, 'n_estimators': [10,50],\n",
      "         'max_features': ['sqrt','log2'], 'random_state': [0]}]\n",
      "exp = diogenes.grid_search.experiment.Experiment(M, labels, clfs=clfs)\n",
      "_ = exp.run()"
     ],
     "language": "python",
     "metadata": {},
     "outputs": [],
     "prompt_number": 36
    },
    {
     "cell_type": "markdown",
     "metadata": {},
     "source": [
      "Now, we will extract a single run, which gives us a single fitted classifier and a single set of test data."
     ]
    },
    {
     "cell_type": "code",
     "collapsed": false,
     "input": [
      "run = exp.trials[0].runs[0][0]\n",
      "fitted_classifier = run.clf\n",
      "# Sadly, SKLearn doesn't like structured arrays, so we have to convert to the other kind of array\n",
      "M_test = diogenes.utils.cast_np_sa_to_nd(M[run.test_indices])\n",
      "labels_test = labels[run.test_indices]\n",
      "scores = fitted_classifier.predict_proba(M_test)[:,1]"
     ],
     "language": "python",
     "metadata": {},
     "outputs": [],
     "prompt_number": 54
    },
    {
     "cell_type": "markdown",
     "metadata": {},
     "source": [
      "We can use our fitted classifier and test data to make an ROC curve or a precision-recall curve showing us how well the classifier performs."
     ]
    },
    {
     "cell_type": "code",
     "collapsed": false,
     "input": [
      "roc_fig = diogenes.display.plot_roc(labels_test, scores)\n",
      "prec_recall_fig = diogenes.display.plot_prec_recall(labels_test, scores)"
     ],
     "language": "python",
     "metadata": {},
     "outputs": [
      {
       "metadata": {},
       "output_type": "display_data",
       "png": "[encoded data removed]",
       "text": [
        "<matplotlib.figure.Figure at 0x108dbae50>"
       ]
      },
      {
       "metadata": {},
       "output_type": "display_data",
       "png": "[encoded data removed]",
       "text": [
        "<matplotlib.figure.Figure at 0x108dbadd0>"
       ]
      }
     ],
     "prompt_number": 62
    },
    {
     "cell_type": "markdown",
     "metadata": {},
     "source": [
      "For classifiers that offer feature importances, we provide a convenience method to get the top `n` features."
     ]
    },
    {
     "cell_type": "code",
     "collapsed": false,
     "input": [
      "top_features = diogenes.display.get_top_features(fitted_classifier, M=M)"
     ],
     "language": "python",
     "metadata": {},
     "outputs": [
      {
       "output_type": "stream",
       "stream": "stdout",
       "text": [
        "             feat_name           score\n",
        "0              alcohol  0.138773360606\n",
        "1              density  0.124570994958\n",
        "2     volatile acidity  0.122195201728\n",
        "3  free sulfur dioxide 0.0899555971065\n",
        "4 total sulfur dioxide 0.0862687591382\n",
        "5            chlorides 0.0857157042913\n",
        "6       residual sugar 0.0852635347622\n",
        "7          citric acid 0.0848357469315\n",
        "8                   pH  0.069405648153\n",
        "9        fixed acidity 0.0586184186208\n"
       ]
      }
     ],
     "prompt_number": 58
    },
    {
     "cell_type": "markdown",
     "metadata": {},
     "source": [
      "For random forest classifiers, we also provide a function to examine consecutive occurence of features in decision trees. see :func:`diogenes.display.display.feature_pairs_in_rf` for more detail."
     ]
    },
    {
     "cell_type": "code",
     "collapsed": false,
     "input": [
      "results = diogenes.display.feature_pairs_in_rf(fitted_classifier, n=3)"
     ],
     "language": "python",
     "metadata": {},
     "outputs": [
      {
       "output_type": "stream",
       "stream": "stdout",
       "text": [
        "================================================================================\n",
        "RF Subsequent Pair Analysis\n",
        "================================================================================\n",
        "\n",
        "--------------------------------------------------------------------------------\n",
        "Overall Occurrences\n",
        "--------------------------------------------------------------------------------\n",
        "feature pair : occurrences\n",
        "(1, 3) : 97\n",
        "(3, 7) : 94\n",
        "(1, 5) : 86\n",
        "\n",
        "--------------------------------------------------------------------------------\n",
        "Average depth\n",
        "--------------------------------------------------------------------------------\n",
        "feature pair : average depth\n",
        "(1, 5) : 7.01162790698\n",
        "(1, 7) : 7.12698412698\n",
        "(1, 10) : 7.17567567568\n",
        "* Max depth was 24\n",
        "\n",
        "--------------------------------------------------------------------------------\n",
        "Occurrences weighted by depth\n",
        "--------------------------------------------------------------------------------\n",
        "feature pair : sum weight\n",
        "(9, 9) : 11.48\n",
        "(3, 3) : 12.56\n",
        "(2, 2) : 12.96\n",
        "* Wdiogenes for depth 0, 1, 2, ... were: [1.0, 0.96, 0.92, 0.88, 0.84, 0.8, 0.76, 0.72, 0.68, 0.64, 0.6, 0.56, 0.52, 0.48, 0.44, 0.4, 0.36, 0.32, 0.28, 0.24, 0.2, 0.16, 0.12, 0.08, 0.04]\n",
        "\n",
        "--------------------------------------------------------------------------------\n",
        "Occurrences at depth 0\n",
        "--------------------------------------------------------------------------------\n",
        "feature pair : occurrences\n",
        "(5, 7) : 2\n",
        "(6, 10) : 2\n",
        "(2, 10) : 2\n",
        "\n",
        "--------------------------------------------------------------------------------\n",
        "Occurrences at depth 1\n",
        "--------------------------------------------------------------------------------\n",
        "feature pair : occurrences\n",
        "(1, 3) : 4\n",
        "(1, 2) : 3\n",
        "(1, 5) : 3\n",
        "\n",
        "--------------------------------------------------------------------------------\n",
        "Occurrences at depth 2\n",
        "--------------------------------------------------------------------------------\n",
        "feature pair : occurrences\n",
        "(1, 10) : 7\n",
        "(1, 5) : 5\n",
        "(5, 10) : 4\n",
        "\n",
        "--------------------------------------------------------------------------------\n",
        "Occurrences at depth 3\n",
        "--------------------------------------------------------------------------------\n",
        "feature pair : occurrences\n",
        "(1, 10) : 8\n",
        "(4, 7) : 6\n",
        "(4, 10) : 6\n",
        "\n",
        "--------------------------------------------------------------------------------\n",
        "Occurrences at depth 4\n",
        "--------------------------------------------------------------------------------\n",
        "feature pair : occurrences\n",
        "(0, 10) : 9\n",
        "(3, 10) : 8\n",
        "(0, 1) : 8\n",
        "\n",
        "--------------------------------------------------------------------------------\n",
        "Occurrences at depth 5\n",
        "--------------------------------------------------------------------------------\n",
        "feature pair : occurrences\n",
        "(1, 5) : 14\n",
        "(6, 10) : 9\n",
        "(4, 5) : 9\n",
        "\n",
        "--------------------------------------------------------------------------------\n",
        "Occurrences at depth 6\n",
        "--------------------------------------------------------------------------------\n",
        "feature pair : occurrences\n",
        "(3, 7) : 14\n",
        "(5, 7) : 13\n",
        "(1, 5) : 12\n",
        "\n",
        "--------------------------------------------------------------------------------\n",
        "Occurrences at depth 7\n",
        "--------------------------------------------------------------------------------\n",
        "feature pair : occurrences\n",
        "(0, 10) : 13\n",
        "(1, 3) : 12\n",
        "(3, 4) : 12\n",
        "\n",
        "--------------------------------------------------------------------------------\n",
        "Occurrences at depth 8\n",
        "--------------------------------------------------------------------------------\n",
        "feature pair : occurrences\n",
        "(3, 5) : 15\n",
        "(3, 7) : 14\n",
        "(4, 7) : 13\n",
        "\n",
        "--------------------------------------------------------------------------------\n",
        "Occurrences at depth 9\n",
        "--------------------------------------------------------------------------------\n",
        "feature pair : occurrences\n",
        "(4, 6) : 14\n",
        "(3, 4) : 14\n",
        "(3, 10) : 12\n",
        "\n",
        "--------------------------------------------------------------------------------\n",
        "Occurrences at depth 10\n",
        "--------------------------------------------------------------------------------\n",
        "feature pair : occurrences\n",
        "(6, 9) : 15\n",
        "(7, 8) : 13\n",
        "(0, 2) : 12\n",
        "\n",
        "--------------------------------------------------------------------------------\n",
        "Occurrences at depth 11\n",
        "--------------------------------------------------------------------------------\n",
        "feature pair : occurrences\n",
        "(4, 7) : 9\n",
        "(4, 5) : 9\n",
        "(0, 9) : 9\n",
        "\n",
        "--------------------------------------------------------------------------------\n",
        "Occurrences at depth 12\n",
        "--------------------------------------------------------------------------------\n",
        "feature pair : occurrences\n",
        "(7, 10) : 9\n",
        "(1, 3) : 8\n",
        "(1, 9) : 8\n",
        "\n",
        "--------------------------------------------------------------------------------\n",
        "Occurrences at depth 13\n",
        "--------------------------------------------------------------------------------\n",
        "feature pair : occurrences\n",
        "(0, 3) : 8\n",
        "(3, 7) : 6\n",
        "(6, 7) : 6\n",
        "\n",
        "--------------------------------------------------------------------------------\n",
        "Occurrences at depth 14\n",
        "--------------------------------------------------------------------------------\n",
        "feature pair : occurrences\n",
        "(2, 5) : 5\n",
        "(1, 2) : 5\n",
        "(3, 8) : 5\n",
        "\n",
        "--------------------------------------------------------------------------------\n",
        "Occurrences at depth 15\n",
        "--------------------------------------------------------------------------------\n",
        "feature pair : occurrences\n",
        "(2, 8) : 4\n",
        "(6, 9) : 3\n",
        "(2, 9) : 3\n",
        "\n",
        "--------------------------------------------------------------------------------\n",
        "Occurrences at depth 16\n",
        "--------------------------------------------------------------------------------\n",
        "feature pair : occurrences\n",
        "(0, 6) : 4\n",
        "(6, 6) : 3\n",
        "(1, 6) : 3\n",
        "\n",
        "--------------------------------------------------------------------------------\n",
        "Occurrences at depth 17\n",
        "--------------------------------------------------------------------------------\n",
        "feature pair : occurrences\n",
        "(6, 7) : 5\n",
        "(4, 5) : 2\n",
        "(0, 7) : 2\n",
        "\n",
        "--------------------------------------------------------------------------------\n",
        "Occurrences at depth 18\n",
        "--------------------------------------------------------------------------------\n",
        "feature pair : occurrences\n",
        "(1, 3) : 2\n",
        "(4, 7) : 2\n",
        "(1, 6) : 2\n",
        "\n",
        "--------------------------------------------------------------------------------\n",
        "Occurrences at depth 19\n",
        "--------------------------------------------------------------------------------\n",
        "feature pair : occurrences\n",
        "(4, 7) : 1\n",
        "(1, 3) : 1\n",
        "(6, 6) : 1\n",
        "\n",
        "--------------------------------------------------------------------------------\n",
        "Occurrences at depth 20\n",
        "--------------------------------------------------------------------------------\n",
        "feature pair : occurrences\n",
        "(0, 0) : 1\n",
        "(4, 9) : 1\n",
        "(4, 6) : 1\n",
        "\n",
        "--------------------------------------------------------------------------------\n",
        "Occurrences at depth 21\n",
        "--------------------------------------------------------------------------------\n",
        "feature pair : occurrences\n",
        "(0, 0) : 1\n",
        "(0, 2) : 1\n",
        "(3, 8) : 1\n",
        "\n",
        "--------------------------------------------------------------------------------\n",
        "Occurrences at depth 22\n",
        "--------------------------------------------------------------------------------\n",
        "feature pair : occurrences\n",
        "(2, 6) : 1\n",
        "(0, 7) : 1\n",
        "(8, 8) : 1\n",
        "\n",
        "--------------------------------------------------------------------------------\n",
        "Occurrences at depth 23\n",
        "--------------------------------------------------------------------------------\n",
        "feature pair : occurrences\n",
        "(3, 7) : 1\n",
        "(6, 7) : 1\n",
        "\n",
        "--------------------------------------------------------------------------------\n",
        "Occurrences at depth 24\n",
        "--------------------------------------------------------------------------------\n",
        "feature pair : occurrences\n",
        "(3, 3) : 1\n",
        "\n"
       ]
      }
     ],
     "prompt_number": 60
    },
    {
     "cell_type": "markdown",
     "metadata": {},
     "source": [
      "## Making PDF Reports\n",
      "\n",
      "Finally, diogenes.display provides a simple way to make PDF reports using :class:`diogenes.display.display.Report`.\n",
      "\n",
      "* Add headings with :meth:`diogenes.display.display.Report.add_heading`\n",
      "* Add text blocks with :meth:`diogenes.display.display.Report.add_text`\n",
      "* Add tables with :meth:`diogenes.display.display.Report.add_table`\n",
      "* Add figures with :meth:`diogenes.display.display.Report.add_figure`\n",
      "* Build the report with :meth:`diogenes.display.display.Report.to_pdf`"
     ]
    },
    {
     "cell_type": "code",
     "collapsed": false,
     "input": [
      "report = diogenes.display.Report(report_path='display_sample_report.pdf')\n",
      "report.add_heading('My Great Report About RF', level=1)\n",
      "report.add_text('I did an experiment with the wine data set '\n",
      "                '(http://archive.ics.uci.edu/ml/machine-learning-databases/wine-quality/winequality-white.csv)')\n",
      "report.add_heading('Top Features', level=2)\n",
      "report.add_table(top_features)\n",
      "report.add_heading('ROC Plot', level=2)\n",
      "report.add_fig(roc_fig)\n",
      "full_report_path = report.to_pdf(verbose=False)"
     ],
     "language": "python",
     "metadata": {},
     "outputs": [],
     "prompt_number": 68
    },
    {
     "cell_type": "markdown",
     "metadata": {},
     "source": [
      "Here's the result:"
     ]
    },
    {
     "cell_type": "code",
     "collapsed": false,
     "input": [
      "from IPython.display import HTML\n",
      "HTML('<iframe src=display_sample_report.pdf width=700 height=350></iframe>')"
     ],
     "language": "python",
     "metadata": {},
     "outputs": [
      {
       "html": [
        "<iframe src=display_sample_report.pdf width=700 height=350></iframe>"
       ],
       "metadata": {},
       "output_type": "pyout",
       "prompt_number": 1,
       "text": [
        "<IPython.core.display.HTML at 0x109e423d0>"
       ]
      }
     ],
     "prompt_number": 1
    },
    {
     "cell_type": "code",
     "collapsed": false,
     "input": [],
     "language": "python",
     "metadata": {},
     "outputs": []
    }
   ],
   "metadata": {}
  }
 ]
}