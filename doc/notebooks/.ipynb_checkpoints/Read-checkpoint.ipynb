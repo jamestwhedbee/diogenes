{
 "metadata": {
  "name": "",
  "signature": "sha256:35a02f65a9705771c3e2f3d77e0a5c425c0578e2a61aeb236de16f0a7769d7bf"
 },
 "nbformat": 3,
 "nbformat_minor": 0,
 "worksheets": [
  {
   "cells": [
    {
     "cell_type": "markdown",
     "metadata": {},
     "source": [
      "# The Read Module\n",
      "\n",
      "The :mod:`diogenes.read` module provides tools for reading data from external sources into Diogenes' preferred Numpy \n",
      "[structured array](http://docs.scipy.org/doc/numpy/user/basics.rec.html) format.\n",
      "\n",
      "The module can read from either:\n",
      "\n",
      "* A local CSV file\n",
      "* A remote CSV file\n",
      "* Any sort of SQL database\n",
      "  "
     ]
    },
    {
     "cell_type": "markdown",
     "metadata": {},
     "source": [
      "## Local CSV Files\n",
      "\n",
      "We can read local CSV files using :func:`diogenes.read.read.open_csv`. "
     ]
    },
    {
     "cell_type": "code",
     "collapsed": false,
     "input": [
      "import diogenes\n",
      "\n",
      "sample_csv_text = 'id,name,age\\n0,Anne,57\\n1,Bill,76\\n2,Cecil,26\\n'\n",
      "with open('sample.csv', 'w') as csv_in:\n",
      "    csv_in.write(sample_csv_text)\n",
      "\n",
      "sample_table = diogenes.read.open_csv('sample.csv')"
     ],
     "language": "python",
     "metadata": {},
     "outputs": [],
     "prompt_number": 34
    },
    {
     "cell_type": "markdown",
     "metadata": {},
     "source": [
      "`sample_table` is a structured array (more specifically, a [record array](http://docs.scipy.org/doc/numpy/reference/generated/numpy.recarray.html))."
     ]
    },
    {
     "cell_type": "code",
     "collapsed": false,
     "input": [
      "print sample_table.dtype"
     ],
     "language": "python",
     "metadata": {},
     "outputs": [
      {
       "output_type": "stream",
       "stream": "stdout",
       "text": [
        "(numpy.record, [('id', '<i8'), ('name', 'O'), ('age', '<i8')])\n"
       ]
      }
     ],
     "prompt_number": 35
    },
    {
     "cell_type": "code",
     "collapsed": false,
     "input": [
      "print sample_table"
     ],
     "language": "python",
     "metadata": {},
     "outputs": [
      {
       "output_type": "stream",
       "stream": "stdout",
       "text": [
        "[(0, 'Anne', 57) (1, 'Bill', 76) (2, 'Cecil', 26)]\n"
       ]
      }
     ],
     "prompt_number": 36
    },
    {
     "cell_type": "markdown",
     "metadata": {},
     "source": [
      "## Remote CSV files\n",
      "\n",
      "We read remote CSV files with :func:`diogenes.read.read.open_csv_url`, using a url"
     ]
    },
    {
     "cell_type": "code",
     "collapsed": false,
     "input": [
      "remote_csv = diogenes.read.open_csv_url('http://archive.ics.uci.edu/ml/machine-learning-databases/wine-quality/winequality-white.csv',\n",
      "    delimiter=';')\n",
      "print remote_csv.dtype"
     ],
     "language": "python",
     "metadata": {},
     "outputs": [
      {
       "output_type": "stream",
       "stream": "stdout",
       "text": [
        "(numpy.record, [('fixed acidity', '<f8'), ('volatile acidity', '<f8'), ('citric acid', '<f8'), ('residual sugar', '<f8'), ('chlorides', '<f8'), ('free sulfur dioxide', '<f8'), ('total sulfur dioxide', '<f8'), ('density', '<f8'), ('pH', '<f8'), ('sulphates', '<f8'), ('alcohol', '<f8'), ('quality', '<i8')])\n"
       ]
      }
     ],
     "prompt_number": 37
    },
    {
     "cell_type": "code",
     "collapsed": false,
     "input": [
      "print remote_csv[:10]"
     ],
     "language": "python",
     "metadata": {},
     "outputs": [
      {
       "output_type": "stream",
       "stream": "stdout",
       "text": [
        "[(7.0, 0.27, 0.36, 20.7, 0.045, 45.0, 170.0, 1.001, 3.0, 0.45, 8.8, 6)\n",
        " (6.3, 0.3, 0.34, 1.6, 0.049, 14.0, 132.0, 0.9940000000000001, 3.3, 0.49, 9.5, 6)\n",
        " (8.1, 0.28, 0.4, 6.9, 0.05, 30.0, 97.0, 0.9951, 3.26, 0.44, 10.1, 6)\n",
        " (7.2, 0.23, 0.32, 8.5, 0.057999999999999996, 47.0, 186.0, 0.9956, 3.19, 0.4, 9.9, 6)\n",
        " (7.2, 0.23, 0.32, 8.5, 0.057999999999999996, 47.0, 186.0, 0.9956, 3.19, 0.4, 9.9, 6)\n",
        " (8.1, 0.28, 0.4, 6.9, 0.05, 30.0, 97.0, 0.9951, 3.26, 0.44, 10.1, 6)\n",
        " (6.2, 0.32, 0.16, 7.0, 0.045, 30.0, 136.0, 0.9949, 3.18, 0.47, 9.6, 6)\n",
        " (7.0, 0.27, 0.36, 20.7, 0.045, 45.0, 170.0, 1.001, 3.0, 0.45, 8.8, 6)\n",
        " (6.3, 0.3, 0.34, 1.6, 0.049, 14.0, 132.0, 0.9940000000000001, 3.3, 0.49, 9.5, 6)\n",
        " (8.1, 0.22, 0.43, 1.5, 0.044000000000000004, 28.0, 129.0, 0.9938, 3.22, 0.45, 11.0, 6)]\n"
       ]
      }
     ],
     "prompt_number": 38
    },
    {
     "cell_type": "markdown",
     "metadata": {},
     "source": [
      "## SQL databases\n",
      "\n",
      "We read from, and write to, databases using :func:`diogenes.read.read.connect_sql`. When we pass an \n",
      "[SQLAlchemy connection string](http://docs.sqlalchemy.org/en/rel_1_0/core/engines.html) to connect_sql, we\n",
      "get an instance of :class:`diogenes.read.read.SQLConnection`, which can run SQL queries with :meth:`diogenes.read.read.SQLConnection` in a way that resembles (but does not strictly adhere to) [DBAPI 2.0](https://www.python.org/dev/peps/pep-0249/)."
     ]
    },
    {
     "cell_type": "code",
     "collapsed": false,
     "input": [
      "conn = diogenes.read.read.connect_sql('sqlite://')\n",
      "conn.execute('CREATE TABLE sample_table (id INT, name TEXT, age INT)')\n",
      "for row in sample_table:\n",
      "    conn.execute('INSERT INTO sample_table (id, name, age) VALUES (?, ?, ?)', row)"
     ],
     "language": "python",
     "metadata": {},
     "outputs": [],
     "prompt_number": 39
    },
    {
     "cell_type": "markdown",
     "metadata": {},
     "source": [
      "An important difference between most Python SQL libraries and Diogenes is that Diogenes returns queries in structured arrays."
     ]
    },
    {
     "cell_type": "code",
     "collapsed": false,
     "input": [
      "sql_result = conn.execute('SELECT * FROM sample_table')\n",
      "print sql_result.dtype"
     ],
     "language": "python",
     "metadata": {},
     "outputs": [
      {
       "output_type": "stream",
       "stream": "stdout",
       "text": [
        "(numpy.record, [('id', '<i8'), ('name', 'O'), ('age', '<i8')])\n"
       ]
      }
     ],
     "prompt_number": 40
    },
    {
     "cell_type": "code",
     "collapsed": false,
     "input": [
      "print sql_result"
     ],
     "language": "python",
     "metadata": {},
     "outputs": [
      {
       "output_type": "stream",
       "stream": "stdout",
       "text": [
        "[(0, u'Anne', 57) (1, u'Bill', 76) (2, u'Cecil', 26)]\n"
       ]
      }
     ],
     "prompt_number": 41
    },
    {
     "cell_type": "code",
     "collapsed": false,
     "input": [],
     "language": "python",
     "metadata": {},
     "outputs": [],
     "prompt_number": 41
    }
   ],
   "metadata": {}
  }
 ]
}