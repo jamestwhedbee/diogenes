{
 "cells": [
  {
   "cell_type": "markdown",
   "metadata": {},
   "source": [
    "# The Array Emitter Module\n",
    "The Array Emitter module provides :class:`diogenes.array_emitter.ArrayEmitter`, which generates tables digestable by Scikit-Learn from RG-formatted (transposed) tables. See class documentation for details"
   ]
  },
  {
   "cell_type": "code",
   "execution_count": 4,
   "metadata": {
    "collapsed": false
   },
   "outputs": [
    {
     "name": "stdout",
     "output_type": "stream",
     "text": [
      "  id math_gpa english_gpa absences absenses\n",
      "0  0      2.2        3.95      7.5      nan\n",
      "1  1     3.45         nan      nan      0.0\n",
      "2  2      3.4         nan      nan     55.0\n"
     ]
    }
   ],
   "source": [
    "import diogenes\n",
    "\n",
    "rg_table_csv = (\n",
    "\"\"\"student_id,start_year,end_year,feature,value\n",
    "0,2005,2006,math_gpa,2.3\n",
    "0,2005,2006,english_gpa,4.0\n",
    "0,2005,2006,absences,7\n",
    "0,2006,2007,math_gpa,2.1\n",
    "0,2006,2007,english_gpa,3.9\n",
    "0,2006,2007,absences,8\n",
    "1,2005,2006,math_gpa,3.4\n",
    "1,2005,2006,absenses,0\n",
    "1,2006,2007,math_gpa,3.5\n",
    "1,2007,2008,english_gpa,2.4\n",
    "2,2004,2005,math_gpa,2.4\n",
    "2,2005,2006,math_gpa,3.4\n",
    "2,2005,2006,absenses,14\n",
    "2,2006,2007,absenses,96\n",
    "\"\"\")\n",
    "\n",
    "with open('sample.csv', 'w') as sample_csv_in:\n",
    "    sample_csv_in.write(rg_table_csv)\n",
    "\n",
    "ae = diogenes.array_emitter.ArrayEmitter()\n",
    "ae = ae.get_rg_from_csv('sample.csv')\n",
    "ae = ae.set_interval(2005, 2007)\n",
    "M = ae.emit_M()\n",
    "diogenes.display.pprint_sa(M)"
   ]
  },
  {
   "cell_type": "code",
   "execution_count": null,
   "metadata": {
    "collapsed": true
   },
   "outputs": [],
   "source": []
  }
 ],
 "metadata": {
  "kernelspec": {
   "display_name": "Python 2",
   "language": "python",
   "name": "python2"
  },
  "language_info": {
   "codemirror_mode": {
    "name": "ipython",
    "version": 2
   },
   "file_extension": ".py",
   "mimetype": "text/x-python",
   "name": "python",
   "nbconvert_exporter": "python",
   "pygments_lexer": "ipython2",
   "version": "2.7.10"
  }
 },
 "nbformat": 4,
 "nbformat_minor": 0
}
