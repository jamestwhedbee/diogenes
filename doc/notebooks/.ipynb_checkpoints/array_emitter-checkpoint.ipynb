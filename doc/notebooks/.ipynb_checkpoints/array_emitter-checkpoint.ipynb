{
 "metadata": {
  "name": "",
  "signature": "sha256:4869b4db4d4df4432e34893693f04bd1c389b204252929dd5ed1e9ca6fece79b"
 },
 "nbformat": 3,
 "nbformat_minor": 0,
 "worksheets": [
  {
   "cells": [
    {
     "cell_type": "markdown",
     "metadata": {},
     "source": [
      "# The Array Emitter Module\n",
      "The Array Emitter module provides :class:`diogenes.array_emitter.ArrayEmitter`, which generates tables digestable by Scikit-Learn from RG-formatted (transposed) tables. See class documentation for details"
     ]
    },
    {
     "cell_type": "code",
     "collapsed": false,
     "input": [
      "from diogenes import array_emitter\n",
      "\n",
      "rg_table_csv = (\n",
      "\"\"\"student_id,start_year,end_year,feature,value\n",
      "0,2005,2006,math_gpa,2.3\n",
      "0,2005,2006,english_gpa,4.0\n",
      "0,2005,2006,absences,7\n",
      "0,2006,2007,math_gpa,2.1\n",
      "0,2006,2007,english_gpa,3.9\n",
      "0,2006,2007,absences,8\n",
      "1,2005,2006,math_gpa,3.4\n",
      "1,2005,2006,absenses,0\n",
      "1,2006,2007,math_gpa,3.5\n",
      "1,2007,2008,english_gpa,2.4\n",
      "2,2004,2005,math_gpa,2.4\n",
      "2,2005,2006,math_gpa,3.4\n",
      "2,2005,2006,absenses,14\n",
      "2,2006,2007,absenses,96\n",
      "\"\"\")\n",
      "\n",
      "with open('sample.csv', 'w') as sample_csv_in:\n",
      "    sample_csv_in.write(rg_table_csv)\n",
      "\n",
      "ae = array_emitter.ArrayEmitter()\n",
      "ae = ae.get_rg_from_csv('sample.csv')\n",
      "ae = ae.set_interval(2005, 2007)\n",
      "M = ae.emit_M()\n",
      "diogenes.display.pprint_sa(M)"
     ],
     "language": "python",
     "metadata": {},
     "outputs": [
      {
       "output_type": "stream",
       "stream": "stdout",
       "text": [
        "  id math_gpa english_gpa absences absenses\n",
        "0  0      2.2        3.95      7.5      nan\n",
        "1  1     3.45         nan      nan      0.0\n",
        "2  2      3.4         nan      nan     55.0\n"
       ]
      }
     ],
     "prompt_number": 7
    },
    {
     "cell_type": "code",
     "collapsed": false,
     "input": [],
     "language": "python",
     "metadata": {},
     "outputs": []
    }
   ],
   "metadata": {}
  }
 ]
}