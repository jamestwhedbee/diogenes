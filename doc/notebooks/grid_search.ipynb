{
 "cells": [
  {
   "cell_type": "markdown",
   "metadata": {},
   "source": [
    "# The Grid Search Module\n",
    "\n",
    "The :mod:`diogenes.grid_search` module provides tools for finding the best classifier, testing classifier sensitivity to data sets, and cross-validating classifier performance. \n",
    "\n",
    "Most of the work you will do in the `grid_search` module centers around the class: :class:`diogenes.grid_search.experiment.Experiment`. \n",
    "\n",
    "An `Experiment` exhaustively fits a number of different classifiers to different data and measures performance. The Experiment searches across a number of dimensions:\n",
    "\n",
    "1. *Classifiers* and hyper-parameters\n",
    "2. Different *subsets* of data to classify\n",
    "3. Different ways to cross-validate a subset of the data (*partition iterators*)\n",
    "\n",
    "Subsets are distinct from partition iterators in that subsets select the portion of the data that will be used for both training and testing, while partition iterators take the data given by the subset and splits it into training and testing sets.\n",
    "\n",
    "We will begin by exploring classifiers, and we will explore subsets and partition iterators later."
   ]
  },
  {
   "cell_type": "markdown",
   "metadata": {},
   "source": [
    "## Experiments, Classifiers and Hyperparameters\n",
    "\n",
    "We start by preparing the wine data set for binary classification"
   ]
  },
  {
   "cell_type": "code",
   "execution_count": 1,
   "metadata": {
    "collapsed": false
   },
   "outputs": [],
   "source": [
    "%matplotlib inline\n",
    "import diogenes\n",
    "import numpy as np\n",
    "data = diogenes.read.open_csv_url(\n",
    "    'http://archive.ics.uci.edu/ml/machine-learning-databases/wine-quality/winequality-white.csv',\n",
    "    delimiter=';')\n",
    "labels = data['quality']\n",
    "labels = labels < np.average(labels)\n",
    "M = diogenes.modify.remove_cols(data, 'quality')"
   ]
  },
  {
   "cell_type": "markdown",
   "metadata": {},
   "source": [
    "We then design an experiment that fits data against Random Forest and SVC with a number of hyperparameters:"
   ]
  },
  {
   "cell_type": "code",
   "execution_count": 2,
   "metadata": {
    "collapsed": false
   },
   "outputs": [],
   "source": [
    "from sklearn.ensemble import RandomForestClassifier\n",
    "from sklearn.svm import SVC\n",
    "clfs = [{'clf': RandomForestClassifier, 'n_estimators': [10,50],\n",
    "         'max_features': ['sqrt','log2'], 'random_state': [0]},\n",
    "        {'clf': SVC, 'C': [0.1, 1.0, 10], 'kernel': ['linear', 'rbf'], \n",
    "         'max_iter': [1000], 'random_state': [0]}]"
   ]
  },
  {
   "cell_type": "markdown",
   "metadata": {},
   "source": [
    "This experiment will fit the data to one classifier for each element in the Cartesian product of the parameters that we passed in. It's equivalent to creating all the following classifiers:\n",
    "\n",
    "    RandomForestClassifier(n_estimators=10, max_features='sqrt', random_state=0)\n",
    "    RandomForestClassifier(n_estimators=10, max_features='log2', random_state=0)\n",
    "    RandomForestClassifier(n_estimators=50, max_features='sqrt', random_state=0)\n",
    "    RandomForestClassifier(n_estimators=50, max_features='log2', random_state=0)\n",
    "    SVC(C=0.1, kernel=linear, max_iter=1000, random_state=0)\n",
    "    SVC(C=0.1, kernel=rbf, max_iter=1000, random_state=0)\n",
    "    SVC(C=1.0, kernel=linear, max_iter=1000, random_state=0)\n",
    "    SVC(C=1.0, kernel=rbf, max_iter=1000, random_state=0)\n",
    "    SVC(C=10, kernel=linear, max_iter=1000, random_state=0)\n",
    "    SVC(C=10, kernel=rbf, max_iter=1000, random_state=0)\n",
    "    \n",
    "See :class:`diogenes.grid_search.experiment.Experiment` for details on how arguments to `Experiment` work.\n",
    "\n",
    "We can then create and run our experiment, and look at scores to see which classifier and which hyperparameters performed the best."
   ]
  },
  {
   "cell_type": "code",
   "execution_count": 3,
   "metadata": {
    "collapsed": false
   },
   "outputs": [
    {
     "name": "stdout",
     "output_type": "stream",
     "text": [
      "Trial(clf=<class 'sklearn.ensemble.forest.RandomForestClassifier'>, clf_params={'n_estimators': 50, 'max_features': 'sqrt', 'random_state': 0}, subset=<class 'diogenes.grid_search.subset.SubsetNoSubset'>, subset_params={}, cv=<class 'sklearn.cross_validation.KFold'>, cv_params={})\n",
      "0.740104773283\n",
      "\n",
      "Trial(clf=<class 'sklearn.ensemble.forest.RandomForestClassifier'>, clf_params={'n_estimators': 50, 'max_features': 'log2', 'random_state': 0}, subset=<class 'diogenes.grid_search.subset.SubsetNoSubset'>, subset_params={}, cv=<class 'sklearn.cross_validation.KFold'>, cv_params={})\n",
      "0.740104773283\n",
      "\n",
      "Trial(clf=<class 'sklearn.ensemble.forest.RandomForestClassifier'>, clf_params={'n_estimators': 10, 'max_features': 'sqrt', 'random_state': 0}, subset=<class 'diogenes.grid_search.subset.SubsetNoSubset'>, subset_params={}, cv=<class 'sklearn.cross_validation.KFold'>, cv_params={})\n",
      "0.730916098323\n",
      "\n"
     ]
    },
    {
     "name": "stderr",
     "output_type": "stream",
     "text": [
      "/Users/zar1/anaconda/lib/python2.7/site-packages/sklearn/svm/base.py:209: ConvergenceWarning: Solver terminated early (max_iter=1000).  Consider pre-processing your data with StandardScaler or MinMaxScaler.\n",
      "  % self.max_iter, ConvergenceWarning)\n",
      "/Users/zar1/anaconda/lib/python2.7/site-packages/sklearn/svm/base.py:209: ConvergenceWarning: Solver terminated early (max_iter=1000).  Consider pre-processing your data with StandardScaler or MinMaxScaler.\n",
      "  % self.max_iter, ConvergenceWarning)\n",
      "/Users/zar1/anaconda/lib/python2.7/site-packages/sklearn/svm/base.py:209: ConvergenceWarning: Solver terminated early (max_iter=1000).  Consider pre-processing your data with StandardScaler or MinMaxScaler.\n",
      "  % self.max_iter, ConvergenceWarning)\n"
     ]
    }
   ],
   "source": [
    "exp = diogenes.grid_search.experiment.Experiment(M, labels, clfs=clfs)\n",
    "exp.run()\n",
    "sorted_trial_with_score = sorted(exp.average_score().iteritems(), key=lambda x: x[1], reverse=True)\n",
    "\n",
    "for trial, score in sorted_trial_with_score[:3]:\n",
    "    print trial\n",
    "    print score\n",
    "    print"
   ]
  },
  {
   "cell_type": "markdown",
   "metadata": {},
   "source": [
    "It looks like our best-performing classifier is `RandomForest` with `n_estimators=50` with a score of about `0.74`. We also notice that the `max_features` hyperparameter does not affect score in this case.\n",
    "\n",
    "If you want to use a standard set of classifiers rather than specifying your own, you can look use :mod:`diogenes.grid_search.standard_clfs`."
   ]
  },
  {
   "cell_type": "code",
   "execution_count": 4,
   "metadata": {
    "collapsed": false
   },
   "outputs": [
    {
     "name": "stdout",
     "output_type": "stream",
     "text": [
      "Trial(clf=<class 'sklearn.ensemble.forest.RandomForestClassifier'>, clf_params={'n_estimators': 50, 'max_features': 'log2', 'n_jobs': 1, 'max_depth': 7}, subset=<class 'diogenes.grid_search.subset.SubsetNoSubset'>, subset_params={}, cv=<class 'sklearn.cross_validation.KFold'>, cv_params={})\n",
      "0.756234765799\n",
      "\n",
      "Trial(clf=<class 'sklearn.ensemble.forest.RandomForestClassifier'>, clf_params={'n_estimators': 50, 'max_features': 'sqrt', 'n_jobs': 1, 'max_depth': 7}, subset=<class 'diogenes.grid_search.subset.SubsetNoSubset'>, subset_params={}, cv=<class 'sklearn.cross_validation.KFold'>, cv_params={})\n",
      "0.75521377412\n",
      "\n",
      "Trial(clf=<class 'sklearn.ensemble.forest.RandomForestClassifier'>, clf_params={'n_estimators': 30, 'max_features': 'sqrt', 'n_jobs': 1, 'max_depth': 7}, subset=<class 'diogenes.grid_search.subset.SubsetNoSubset'>, subset_params={}, cv=<class 'sklearn.cross_validation.KFold'>, cv_params={})\n",
      "0.753377540034\n",
      "\n"
     ]
    },
    {
     "name": "stderr",
     "output_type": "stream",
     "text": [
      "/Users/zar1/anaconda/lib/python2.7/site-packages/sklearn/svm/base.py:209: ConvergenceWarning: Solver terminated early (max_iter=1000).  Consider pre-processing your data with StandardScaler or MinMaxScaler.\n",
      "  % self.max_iter, ConvergenceWarning)\n",
      "/Users/zar1/anaconda/lib/python2.7/site-packages/sklearn/svm/base.py:209: ConvergenceWarning: Solver terminated early (max_iter=1000).  Consider pre-processing your data with StandardScaler or MinMaxScaler.\n",
      "  % self.max_iter, ConvergenceWarning)\n"
     ]
    }
   ],
   "source": [
    "exp = diogenes.grid_search.experiment.Experiment(M, labels, clfs=diogenes.grid_search.standard_clfs.std_clfs)\n",
    "exp.run()\n",
    "sorted_trial_with_score = sorted(exp.average_score().iteritems(), key=lambda x: x[1], reverse=True)\n",
    "\n",
    "for trial, score in sorted_trial_with_score[:3]:\n",
    "    print trial\n",
    "    print score\n",
    "    print"
   ]
  },
  {
   "cell_type": "markdown",
   "metadata": {},
   "source": [
    "## Subset Iterators and Partition Iterators\n",
    "\n",
    "In addition to iterating over different classifiers and hyper-parameters, we can also iterate over different subsets of data and different methods of cross validation. We'll discuss subsetters first.\n",
    "\n",
    "### Subset Iterators\n",
    "\n",
    "A Subset Iterators iterates over different subsets of the data. `Experiment` will attempt to fit all the classifiers to, and do cross-validation on, each subset. A number of these subset iterators are defined in :mod:`diogenes.grid_search.subset`, including:\n",
    "\n",
    "* :class:`diogenes.grid_search.subset.SubsetSweepNumRows`, which takes subsets with different numbers of rows, ignoring which     row has which label\n",
    "* :class:`diogenes.grid_search.subset.SubsetRandomRowsActualDistribution`, which takes a subset of data that have the same \n",
    "  frequency distribution of labels as the entire data set.\n",
    "* :class:`diogenes.grid_search.subset.SubsetRandomRowsEvenDistribution`, which takes a subset of data that have an equal number\n",
    "  of representatives with each label.\n",
    "* :class:`diogenes.grid_search.subset.SubsetSweepVaryStratification`, which varies the distribution of rows with each label.\n",
    "* :class:`diogenes.grid_search.subset.SubsetNoSubset`, which simply returns all the data rather than taking a subset. This is\n",
    "  what `Experiment` uses when you do not specify a subset iterator.\n",
    "  \n",
    "As an example, we will examine the performance of Random Forest when we provide different numbers of rows. We want to vary number of rows without varying the distribution of labels, so we will use `SubsetRandomRowsActualDistribution`."
   ]
  },
  {
   "cell_type": "code",
   "execution_count": 5,
   "metadata": {
    "collapsed": false
   },
   "outputs": [
    {
     "data": {
      "image/png": "[encoded data removed]",
      "text/plain": [
       "<matplotlib.figure.Figure at 0x10d30b5d0>"
      ]
     },
     "metadata": {},
     "output_type": "display_data"
    }
   ],
   "source": [
    "subsets = [{'subset': diogenes.grid_search.subset.SubsetRandomRowsActualDistribution,\n",
    "            'subset_size': range(1000, M.shape[0], 500),\n",
    "            'n_subsets': [1]}]\n",
    "exp = diogenes.grid_search.experiment.Experiment(M, labels, subsets=subsets)\n",
    "subset_size = []\n",
    "all_scores = []\n",
    "for trial, score in exp.average_score().iteritems():\n",
    "    subset_size.append(trial.subset_params['subset_size'])\n",
    "    all_scores.append(score)\n",
    "\n",
    "import matplotlib.pyplot as plt\n",
    "\n",
    "plt.plot(subset_size, all_scores, '.', markersize=10)\n",
    "plt.xlabel('subset size')\n",
    "plt.ylabel('score')\n",
    "plt.show()"
   ]
  },
  {
   "cell_type": "markdown",
   "metadata": {},
   "source": [
    "We see a weak upward trend, but it isn't clear that Random Forest is sensitive to the size of the dataset given a constant proportion of labels."
   ]
  },
  {
   "cell_type": "markdown",
   "metadata": {},
   "source": [
    "### Partition Iterators\n",
    "\n",
    "A partition iterator is a class that iterates over train and test sets. Iterators in Scikit Learn's [cross-validation module](http://scikit-learn.org/stable/modules/cross_validation.html#cross-validation-iterators) are valid partition iterators, including:\n",
    "\n",
    "* [K-Fold cross-validation](http://scikit-learn.org/stable/modules/generated/sklearn.cross_validation.KFold.html#sklearn.cross_validation.KFold)\n",
    "* [Stratified K-Fold cross-validation](http://scikit-learn.org/stable/modules/generated/sklearn.cross_validation.StratifiedKFold.html#sklearn.cross_validation.StratifiedKFold)\n",
    "\n",
    "Here's an experiment that does 5 folds of stratified K-Fold cross validation:"
   ]
  },
  {
   "cell_type": "code",
   "execution_count": 6,
   "metadata": {
    "collapsed": false
   },
   "outputs": [
    {
     "name": "stdout",
     "output_type": "stream",
     "text": [
      "[Trial(clf=<class 'sklearn.ensemble.forest.RandomForestClassifier'>, clf_params={}, subset=<class 'diogenes.grid_search.subset.SubsetNoSubset'>, subset_params={}, cv=<class 'sklearn.cross_validation.StratifiedKFold'>, cv_params={'n_folds': 5})]\n",
      "0.705102040816\n",
      "0.723469387755\n",
      "0.742857142857\n",
      "0.744637385087\n",
      "0.73646578141\n"
     ]
    }
   ],
   "source": [
    "from sklearn.cross_validation import StratifiedKFold\n",
    "cvs = [{'cv': StratifiedKFold, 'n_folds': [5]}]\n",
    "exp = diogenes.grid_search.experiment.Experiment(M, labels, cvs=cvs)\n",
    "exp.run()\n",
    "print exp.trials\n",
    "for run in exp.trials[0].runs_flattened():\n",
    "    print run.score()"
   ]
  },
  {
   "cell_type": "markdown",
   "metadata": {},
   "source": [
    "We have 1 `Trial` with 5 `Run`s, one `Run` per fold. We discuss `Trial`s and `Run`s in more detail below."
   ]
  },
  {
   "cell_type": "markdown",
   "metadata": {},
   "source": [
    "In addition to the Scikit Learn partition iterators, we define partition iterators in :mod:`diogenes.grid_search.partition_iterator`, including:\n",
    "\n",
    "#### SlidingWindowIdx\n",
    "\n",
    ":class:`diogenes.grid_search.partition_iterator.SlidingWindowIdx` takes a sliding window of rows for the test set and a   sliding window of rows for the training set. For example, if we create:\n",
    "\n",
    "    cvs = [{'cv': diogenes.grid_search.partition_iterator.SlidingWindowIdx,\n",
    "            'train_start': [10],\n",
    "            'train_window_size': [20],\n",
    "            'test_start': [30],\n",
    "            'test_window_size': [20],\n",
    "            'inc_value': [10]}]\n",
    "                                                             \n",
    "then the following rows will be included in our train and test sets:\n",
    "  \n",
    "| train set start row | train set stop row | test set start row | test set stop row |\n",
    "|---------------------|--------------------|--------------------|-------------------|\n",
    "| 10                  | 30                 | 30                 | 50                |\n",
    "| 20                  | 40                 | 40                 | 60                |\n",
    "| 30                  | 50                 | 50                 | 70                |\n",
    "| ...                 | ...                | ...                | ...               |\n",
    "\n",
    "We can also set `'expanding_train': True`, which keeps the train test start row constant\n",
    "\n",
    "| train set start row | train set stop row | test set start row | test set stop row |\n",
    "|---------------------|--------------------|--------------------|-------------------|\n",
    "| 10                  | 30                 | 30                 | 50                |\n",
    "| 10                  | 40                 | 40                 | 60                |\n",
    "| 10                  | 50                 | 50                 | 70                |\n",
    "| ...                 | ...                | ...                | ...               |\n",
    "\n",
    "#### SlidingWindowValue\n",
    "\n",
    ":class:`diogenes.grid_search.partition_iterator.SlidingWindowValue` is similar to `SlidingWindowIdx` except instead of using row numbers as an index, it uses the value of a given column. This is designed for cross-validating over time. For example, let's say each of our rows happened during a particular year:"
   ]
  },
  {
   "cell_type": "code",
   "execution_count": 7,
   "metadata": {
    "collapsed": false
   },
   "outputs": [
    {
     "name": "stdout",
     "output_type": "stream",
     "text": [
      "[1995 1990 1993 1993 1997 1999 1993 1995 1992 1994]\n"
     ]
    }
   ],
   "source": [
    "np.random.seed(0)\n",
    "years = np.random.randint(1990, 2000, size=(M.shape[0],))\n",
    "print years[:10]\n",
    "M_with_year = diogenes.utils.append_cols(M, years, 'year')"
   ]
  },
  {
   "cell_type": "code",
   "execution_count": 8,
   "metadata": {
    "collapsed": false
   },
   "outputs": [
    {
     "name": "stdout",
     "output_type": "stream",
     "text": [
      "train_start: 1990, train_end: 1991, test_start: 1992, test_end: 1993, score: 0.765190525232\n",
      "train_start: 1992, train_end: 1993, test_start: 1994, test_end: 1995, score: 0.784913353721\n",
      "train_start: 1994, train_end: 1995, test_start: 1996, test_end: 1997, score: 0.760288065844\n",
      "train_start: 1996, train_end: 1997, test_start: 1998, test_end: 1999, score: 0.746435845214\n"
     ]
    }
   ],
   "source": [
    "cvs = [{'cv': diogenes.grid_search.partition_iterator.SlidingWindowValue,\n",
    "        'guide_col_name': ['year'],\n",
    "        'train_start': [1990],\n",
    "        'train_window_size': [2],\n",
    "        'test_start': [1992],\n",
    "        'test_window_size': [2],\n",
    "        'inc_value': [2]}]\n",
    "\n",
    "exp = diogenes.grid_search.experiment.Experiment(M_with_year, labels, cvs=cvs)\n",
    "exp.run()\n",
    "\n",
    "for run in exp.trials[0].runs_flattened():\n",
    "    print 'train_start: {}, train_end: {}, test_start: {}, test_end: {}, score: {}'.format(\n",
    "        run.cv_note['train_start'],\n",
    "        run.cv_note['train_end'],\n",
    "        run.cv_note['test_start'],\n",
    "        run.cv_note['test_end'],\n",
    "        run.score())"
   ]
  },
  {
   "cell_type": "markdown",
   "metadata": {},
   "source": [
    "## Trials and Runs\n",
    "\n",
    "In diogenes, there are three levels used to keep track of fitting data to classifiers.\n",
    "\n",
    "* :class:`diogenes.grid_search.experiment.Experiment` tests a number of classifiers, hyperparameters, subsets, and partition \n",
    "  iterators. `Experiments` contain a number of `Trials`.\n",
    "* :class:`diogenes.grid_search.experiment.Trial` contains one configuration-- i.e. one classifier, one set of hyperparameters,\n",
    "  one method of taking subsets, and one method of doing cross-validation. a `Trial` contains a number of `Runs`\n",
    "* :class:`diogenes.grid_search.experiment.Run` contains one fold of one subset of data. \n",
    "\n",
    "For example, we'll design an experiment with multiple hyperparameters, subsets, and folds:"
   ]
  },
  {
   "cell_type": "code",
   "execution_count": 9,
   "metadata": {
    "collapsed": false
   },
   "outputs": [],
   "source": [
    "clfs = [{'clf': RandomForestClassifier, 'n_estimators': [10, 50]}]\n",
    "subsets = [{'subset': diogenes.grid_search.subset.SubsetRandomRowsEvenDistribution, \n",
    "            'subset_size': [500, 1000],\n",
    "            'n_subsets': [3]}]\n",
    "cvs = [{'cv': StratifiedKFold, 'n_folds': [4]}]\n",
    "exp = diogenes.grid_search.experiment.Experiment(M, labels, clfs=clfs, subsets=subsets, cvs=cvs)\n",
    "_ = exp.run()"
   ]
  },
  {
   "cell_type": "markdown",
   "metadata": {},
   "source": [
    "We can access our `Trial`s with `exp.trials`"
   ]
  },
  {
   "cell_type": "code",
   "execution_count": 10,
   "metadata": {
    "collapsed": false
   },
   "outputs": [
    {
     "name": "stdout",
     "output_type": "stream",
     "text": [
      "trial with n_estimators=10 and subset_size=500\n",
      "trial with n_estimators=10 and subset_size=1000\n",
      "trial with n_estimators=50 and subset_size=500\n",
      "trial with n_estimators=50 and subset_size=1000\n"
     ]
    }
   ],
   "source": [
    "for trial in exp.trials:\n",
    "    print 'trial with n_estimators={} and subset_size={}'.format(\n",
    "        trial.clf_params['n_estimators'],\n",
    "        trial.subset_params['subset_size'])"
   ]
  },
  {
   "cell_type": "markdown",
   "metadata": {},
   "source": [
    "We have 4 `Trial`s: one `Trial` for each configuration. In this case, our configuration varies by `n_estimators` for Random Forest and `subset_size` for our `SubsetRandomRowsEvenDistribution` subset iterator.\n",
    "\n",
    "`Trial`s expose things like \n",
    "* The classifier, subset iterator, and partition iterator classes associated with the `Trial` \n",
    "  (`Trial.clf`, `Trial.subset`, `Trial.cv`).\n",
    "* The set of parameters associated with the classifier, subset iterator, and partition iterator \n",
    "  (`Trial.clf_params`, `Trial.subset_params`, `Trial.cv_params`)\n",
    "\n",
    "We can access the `Run`s in a given `Trial` with `Trial.runs`"
   ]
  },
  {
   "cell_type": "code",
   "execution_count": 11,
   "metadata": {
    "collapsed": false
   },
   "outputs": [
    {
     "name": "stdout",
     "output_type": "stream",
     "text": [
      "Run from subset: 0, fold: 0\n",
      "Run from subset: 0, fold: 1\n",
      "Run from subset: 0, fold: 2\n",
      "Run from subset: 0, fold: 3\n",
      "Run from subset: 1, fold: 0\n",
      "Run from subset: 1, fold: 1\n",
      "Run from subset: 1, fold: 2\n",
      "Run from subset: 1, fold: 3\n",
      "Run from subset: 2, fold: 0\n",
      "Run from subset: 2, fold: 1\n",
      "Run from subset: 2, fold: 2\n",
      "Run from subset: 2, fold: 3\n"
     ]
    }
   ],
   "source": [
    "trial_0 = exp.trials[0]\n",
    "for runs_by_subset in trial_0.runs:\n",
    "    for run in runs_by_subset:\n",
    "        print 'Run from subset: {}, fold: {}'.format(\n",
    "            run.subset_note['sample_num'],\n",
    "            run.cv_note['fold'])"
   ]
  },
  {
   "cell_type": "markdown",
   "metadata": {},
   "source": [
    "Note that `Trial.runs` is a list of lists. The outer list organizes subsets and the inner list organizes folds. To get a flat list, use `Trial.runs_flattened()`"
   ]
  },
  {
   "cell_type": "code",
   "execution_count": 12,
   "metadata": {
    "collapsed": false
   },
   "outputs": [
    {
     "name": "stdout",
     "output_type": "stream",
     "text": [
      "Run from subset: 0, fold: 0\n",
      "Run from subset: 0, fold: 1\n",
      "Run from subset: 0, fold: 2\n",
      "Run from subset: 0, fold: 3\n",
      "Run from subset: 1, fold: 0\n",
      "Run from subset: 1, fold: 1\n",
      "Run from subset: 1, fold: 2\n",
      "Run from subset: 1, fold: 3\n",
      "Run from subset: 2, fold: 0\n",
      "Run from subset: 2, fold: 1\n",
      "Run from subset: 2, fold: 2\n",
      "Run from subset: 2, fold: 3\n"
     ]
    }
   ],
   "source": [
    "for run in trial_0.runs_flattened():\n",
    "    print 'Run from subset: {}, fold: {}'.format(\n",
    "            run.subset_note['sample_num'],\n",
    "            run.cv_note['fold'])"
   ]
  },
  {
   "cell_type": "markdown",
   "metadata": {},
   "source": [
    "In general, metrics and graphs are available at the `Run` level and aggregations of metrics are available at the `Trial` level"
   ]
  },
  {
   "cell_type": "code",
   "execution_count": 13,
   "metadata": {
    "collapsed": false
   },
   "outputs": [
    {
     "name": "stdout",
     "output_type": "stream",
     "text": [
      "0.67620327701\n",
      "0.698412698413\n"
     ]
    },
    {
     "data": {
      "image/png": "[encoded data removed]",
      "text/plain": [
       "<matplotlib.figure.Figure at 0x10451b150>"
      ]
     },
     "metadata": {},
     "output_type": "display_data"
    }
   ],
   "source": [
    "print trial_0.average_score()\n",
    "\n",
    "run_0 = trial_0.runs_flattened()[0]\n",
    "print run_0.f1_score()\n",
    "fig = run_0.prec_recall_curve()"
   ]
  },
  {
   "cell_type": "markdown",
   "metadata": {},
   "source": [
    "`Run`s also expose things like:\n",
    "\n",
    "* the fitted clf (`Run.clf`) \n",
    "* the train and test indices of `M` and `labels` applicable to the run (`Run.train_indices`, `Run.test_indices`)\n",
    "* Information about the subset `Run.subset_note` and fold `Run.cv_note` to which the run belongs."
   ]
  },
  {
   "cell_type": "markdown",
   "metadata": {},
   "source": [
    "## Reports\n",
    "\n",
    "`Experiments` offer two primary kinds of reports: \n",
    "* A pdf report, which summarizes the performance of various `Trials` and provides detailed metrics for the best `Trial`\n",
    "  (:meth:`diogenes.grid_search.experiment.Experiment.make_report`)\n",
    "* A csv report, which elucidates the performance of all runs in a format that can be processed later (e.g. by MS Excel).\n",
    "  (:meth:`diogenes.grid_search.experiment.Experiment.make_csv`)\n",
    "\n",
    "We'll look at the pdf report in detail:"
   ]
  },
  {
   "cell_type": "code",
   "execution_count": 14,
   "metadata": {
    "collapsed": false
   },
   "outputs": [
    {
     "data": {
      "text/html": [
       "<iframe src=grid_search_sample_report.pdf width=800 height=350></iframe>"
      ],
      "text/plain": [
       "<IPython.core.display.HTML object>"
      ]
     },
     "execution_count": 14,
     "metadata": {},
     "output_type": "execute_result"
    }
   ],
   "source": [
    "clfs = [{'clf': RandomForestClassifier, 'n_estimators': [10,50],\n",
    "         'max_features': ['sqrt','log2'], 'random_state': [0]}]\n",
    "exp = diogenes.grid_search.experiment.Experiment(M, labels, clfs=clfs)\n",
    "exp.run()\n",
    "exp.make_report(report_file_name='grid_search_sample_report.pdf', verbose=False)\n",
    "from IPython.display import HTML\n",
    "HTML('<iframe src=grid_search_sample_report.pdf width=800 height=350></iframe>')"
   ]
  },
  {
   "cell_type": "markdown",
   "metadata": {},
   "source": [
    "The first two graphs are summaries of how well the `Trial`s performed by two different metrics (classifier.score and area under ROC, respectively). The number above the bar signifies the configuration, which can be looked up in the legend at the end of the report. Here, we see that the best `Trial` by both metrics is trial 2, which, as we can see in the legend, has 50 estimators and `'sqrt'` for its `max_features`. The second two graphs are ROC and precision/recall for trial 2."
   ]
  },
  {
   "cell_type": "code",
   "execution_count": null,
   "metadata": {
    "collapsed": false
   },
   "outputs": [],
   "source": []
  }
 ],
 "metadata": {
  "kernelspec": {
   "display_name": "Python 2",
   "language": "python",
   "name": "python2"
  },
  "language_info": {
   "codemirror_mode": {
    "name": "ipython",
    "version": 2
   },
   "file_extension": ".py",
   "mimetype": "text/x-python",
   "name": "python",
   "nbconvert_exporter": "python",
   "pygments_lexer": "ipython2",
   "version": "2.7.10"
  }
 },
 "nbformat": 4,
 "nbformat_minor": 0
}
