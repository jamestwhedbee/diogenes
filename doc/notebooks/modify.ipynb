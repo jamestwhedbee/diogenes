{
 "cells": [
  {
   "cell_type": "markdown",
   "metadata": {},
   "source": [
    "# The Modify Module\n",
    "\n",
    ":mod:`diogenes.modify` provides tools for manipulating arrays and generating features. \n",
    "\n",
    "* Cleaning\n",
    "    * :func:`diogenes.modify.modify.replace_missing_vals`\n",
    "    * :func:`diogenes.modify.modify.label_encode`\n",
    "* Selection\n",
    "    * :func:`diogenes.modify.modify.choose_cols_where`\n",
    "    * :func:`diogenes.modify.modify.choose_rows_where`\n",
    "    * :func:`diogenes.modify.modify.remove_cols_where`\n",
    "    * :func:`diogenes.modify.modify.remove_rows_where`\n",
    "* Feature generation\n",
    "    * :func:`diogenes.modify.modify.generate_bin`\n",
    "    * :func:`diogenes.modify.modify.normalize`\n",
    "    * :func:`diogenes.modify.modify.combine_cols`\n",
    "    * :func:`diogenes.modify.modify.distance_from_point`\n",
    "    * :func:`diogenes.modify.modify.where_all_are_true`  "
   ]
  },
  {
   "cell_type": "markdown",
   "metadata": {},
   "source": [
    "## In-place Cleaning\n",
    "\n",
    "Diogenes provides two functions for data cleaning:\n",
    "\n",
    "* :func:`diogenes.modify.modify.replace_missing_vals`, which replaces missing values with valid onces.\n",
    "* :func:`diogenes.modify.modify.label_encode` which replaces strings with corresponding integers.\n",
    "\n",
    "For this example, we'll look at Chicago's \"311 Service Requests - Tree Debris\" data on the Chicago data portal (https://data.cityofchicago.org/)"
   ]
  },
  {
   "cell_type": "code",
   "execution_count": 1,
   "metadata": {
    "collapsed": false
   },
   "outputs": [],
   "source": [
    "import diogenes\n",
    "\n",
    "data = diogenes.read.open_csv_url('https://data.cityofchicago.org/api/views/mab8-y9h3/rows.csv?accessType=DOWNLOAD', \n",
    "                                  parse_datetimes=['Creation Date', 'Completion Date'])"
   ]
  },
  {
   "cell_type": "markdown",
   "metadata": {},
   "source": [
    "The last row of this data set repeats the labels. We're going to go ahead and omit it."
   ]
  },
  {
   "cell_type": "code",
   "execution_count": 2,
   "metadata": {
    "collapsed": false
   },
   "outputs": [],
   "source": [
    "data = data[:-1]"
   ]
  },
  {
   "cell_type": "code",
   "execution_count": 3,
   "metadata": {
    "collapsed": false
   },
   "outputs": [
    {
     "data": {
      "text/plain": [
       "dtype((numpy.record, [('Creation Date', '<M8[ns]'), ('Status', 'O'), ('Completion Date', '<M8[ns]'), ('Service Request Number', 'O'), ('Type of Service Request', 'O'), ('If Yes, where is the debris located?', 'O'), ('Current Activity', 'O'), ('Most Recent Action', 'O'), ('Street Address', 'O'), ('ZIP Code', '<f8'), ('X Coordinate', '<f8'), ('Y Coordinate', '<f8'), ('Ward', '<f8'), ('Police District', '<f8'), ('Community Area', '<f8'), ('Latitude', '<f8'), ('Longitude', '<f8'), ('Location', 'O')]))"
      ]
     },
     "execution_count": 3,
     "metadata": {},
     "output_type": "execute_result"
    }
   ],
   "source": [
    "data.dtype"
   ]
  },
  {
   "cell_type": "markdown",
   "metadata": {},
   "source": [
    "We're going to predict whether a job is still open, so our label will ultimately be the \"Status\" column. "
   ]
  },
  {
   "cell_type": "code",
   "execution_count": 4,
   "metadata": {
    "collapsed": false
   },
   "outputs": [
    {
     "name": "stdout",
     "output_type": "stream",
     "text": [
      "[('Completed', 94431), ('Completed - Dup', 13912), ('Open', 144), ('Open - Dup', 6)]\n"
     ]
    }
   ],
   "source": [
    "from collections import Counter\n",
    "print Counter(data['Status']).most_common()"
   ]
  },
  {
   "cell_type": "markdown",
   "metadata": {},
   "source": [
    "We'll remove the label from the rest of the data later. First, let's do some cleaning. Notice that we have some missing data for our floating point variables (encoded as numpy.nan)"
   ]
  },
  {
   "cell_type": "code",
   "execution_count": 5,
   "metadata": {
    "collapsed": false
   },
   "outputs": [
    {
     "name": "stdout",
     "output_type": "stream",
     "text": [
      "270\n",
      "31\n",
      "39\n"
     ]
    }
   ],
   "source": [
    "import numpy as np\n",
    "print sum(np.isnan(data['ZIP Code']))\n",
    "print sum(np.isnan(data['Ward']))\n",
    "print sum(np.isnan(data['X Coordinate']))"
   ]
  },
  {
   "cell_type": "markdown",
   "metadata": {},
   "source": [
    "Sklearn can't tolerate these missing values, so we have to do something with them. Probably, a statistically sound thing to do with this data would be to leave these rows out, but for pedagogical purposes, let's assume it makes sense to impute the data. We can do that with :func:`diogenes.modify.modify.replace_missing_vals`. \n",
    "\n",
    "We could, for instance, replace every nan with a 0:"
   ]
  },
  {
   "cell_type": "code",
   "execution_count": 6,
   "metadata": {
    "collapsed": false
   },
   "outputs": [
    {
     "name": "stdout",
     "output_type": "stream",
     "text": [
      "0\n",
      "277\n"
     ]
    }
   ],
   "source": [
    "data_with_zeros = diogenes.modify.replace_missing_vals(data, strategy='constant', constant=0)\n",
    "print sum(np.isnan(data_with_zeros['ZIP Code']))\n",
    "print sum(data_with_zeros['ZIP Code'] == 0)"
   ]
  },
  {
   "cell_type": "markdown",
   "metadata": {},
   "source": [
    "Looks like there were a few entries that had 0 for a zip code already.\n",
    "\n",
    "For the purposes of this tutorial, we will go ahead and replace missing values with the most frequent value in the column:"
   ]
  },
  {
   "cell_type": "code",
   "execution_count": 7,
   "metadata": {
    "collapsed": false
   },
   "outputs": [],
   "source": [
    "data = diogenes.modify.replace_missing_vals(data, strategy='most_frequent')"
   ]
  },
  {
   "cell_type": "markdown",
   "metadata": {},
   "source": [
    "Our data also has a number of string columns. Strings must be converted to numbers before Scikit-Learn can analyze them, so we will use :func:`diogenes.modify.modify.label_encode` to convert them"
   ]
  },
  {
   "cell_type": "code",
   "execution_count": 8,
   "metadata": {
    "collapsed": false
   },
   "outputs": [
    {
     "name": "stdout",
     "output_type": "stream",
     "text": [
      "[('Parkway', 44385), ('Alley', 43146), ('', 16145), ('Vacant Lot', 4817)]\n",
      "[(2, 44385), (1, 43146), (0, 16145), (3, 4817)]\n",
      "['' 'Alley' 'Parkway' 'Vacant Lot']\n"
     ]
    }
   ],
   "source": [
    "print Counter(data['If Yes, where is the debris located?']).most_common()\n",
    "data, classes = diogenes.modify.label_encode(data)\n",
    "print Counter(data['If Yes, where is the debris located?']).most_common()\n",
    "print classes['If Yes, where is the debris located?']"
   ]
  },
  {
   "cell_type": "markdown",
   "metadata": {},
   "source": [
    "Note that `classes` is a dictionary of arrays where each key is the column name and each value is an array of which string each number represents. For example, if we wanted to find out what category `1` represents, we would look at:"
   ]
  },
  {
   "cell_type": "code",
   "execution_count": 9,
   "metadata": {
    "collapsed": false
   },
   "outputs": [
    {
     "data": {
      "text/plain": [
       "'Alley'"
      ]
     },
     "execution_count": 9,
     "metadata": {},
     "output_type": "execute_result"
    }
   ],
   "source": [
    "classes['If Yes, where is the debris located?'][1]"
   ]
  },
  {
   "cell_type": "markdown",
   "metadata": {},
   "source": [
    "and find that category 1 is 'Alley'"
   ]
  },
  {
   "cell_type": "markdown",
   "metadata": {},
   "source": [
    "## Selection\n",
    "\n",
    "Diogenes provides a number of functions to retain only columns and rows matching a specific criteria:\n",
    "\n",
    "* :func:`diogenes.modify.modify.choose_cols_where`\n",
    "* :func:`diogenes.modify.modify.remove_cols_where`\n",
    "* :func:`diogenes.modify.modify.choose_rows_where`\n",
    "* :func:`diogenes.modify.modify.remove_rows_where`\n",
    "\n",
    "These are explained in detail in the module documentation for :mod:`diogenes.modify.modify`. Explaining all the different things you can do with these selection operators is outside the scope of this tutorial.\n",
    "\n",
    "We'll start out by removing any columns for which every row is the same value by employing the :func:`diogenes.modify.modify.col_val_eq_any` column selection function:"
   ]
  },
  {
   "cell_type": "code",
   "execution_count": 10,
   "metadata": {
    "collapsed": false
   },
   "outputs": [
    {
     "name": "stdout",
     "output_type": "stream",
     "text": [
      "('Creation Date', 'Status', 'Completion Date', 'Service Request Number', 'Type of Service Request', 'If Yes, where is the debris located?', 'Current Activity', 'Most Recent Action', 'Street Address', 'ZIP Code', 'X Coordinate', 'Y Coordinate', 'Ward', 'Police District', 'Community Area', 'Latitude', 'Longitude', 'Location')\n",
      "\n",
      "Counter({0: 108493})\n",
      "\n",
      "('Creation Date', 'Status', 'Completion Date', 'Service Request Number', 'If Yes, where is the debris located?', 'Current Activity', 'Most Recent Action', 'Street Address', 'ZIP Code', 'X Coordinate', 'Y Coordinate', 'Ward', 'Police District', 'Community Area', 'Latitude', 'Longitude', 'Location')\n"
     ]
    }
   ],
   "source": [
    "print data.dtype.names\n",
    "print\n",
    "print Counter(data['Type of Service Request'])\n",
    "print\n",
    "\n",
    "arguments = [{'func': diogenes.modify.col_val_eq_any, 'vals': None}]\n",
    "data = diogenes.modify.remove_cols_where(data, arguments)\n",
    "\n",
    "print data.dtype.names"
   ]
  },
  {
   "cell_type": "markdown",
   "metadata": {},
   "source": [
    "Notice that \"Type of Service Request\" has been removed, since every value in the column was the same\n",
    "\n",
    "Next, let's assume that we're only interested in requests made during the year 2015 and select only those rows using the :func:`diogenes.modify.modify.row_val_between` row selection function:"
   ]
  },
  {
   "cell_type": "code",
   "execution_count": 11,
   "metadata": {
    "collapsed": false
   },
   "outputs": [
    {
     "name": "stdout",
     "output_type": "stream",
     "text": [
      "(108493,)\n",
      "2004-07-20T19:00:00.000000000-0500\n",
      "2015-11-04T18:00:00.000000000-0600\n",
      "\n",
      "(15566,)\n",
      "2015-01-01T18:00:00.000000000-0600\n",
      "2015-11-04T18:00:00.000000000-0600\n"
     ]
    }
   ],
   "source": [
    "print data.shape\n",
    "print data['Creation Date'].min()\n",
    "print data['Creation Date'].max()\n",
    "print\n",
    "\n",
    "arguments = [{'func': diogenes.modify.row_val_between, \n",
    "              'vals': [np.datetime64('2015-01-01T00:00:00', 'ns'), np.datetime64('2016-01-01T00:00:00', 'ns')], \n",
    "              'col_name': 'Creation Date'}]\n",
    "data = diogenes.modify.choose_rows_where(data, arguments)\n",
    "\n",
    "print data.shape\n",
    "print data['Creation Date'].min()\n",
    "print data['Creation Date'].max()"
   ]
  },
  {
   "cell_type": "markdown",
   "metadata": {},
   "source": [
    "Finally, let's remove rows which the \"Status\" column claims are duplicates. We review our `classes` variable to find:"
   ]
  },
  {
   "cell_type": "code",
   "execution_count": 12,
   "metadata": {
    "collapsed": false
   },
   "outputs": [
    {
     "data": {
      "text/plain": [
       "array(['Completed', 'Completed - Dup', 'Open', 'Open - Dup'], dtype=object)"
      ]
     },
     "execution_count": 12,
     "metadata": {},
     "output_type": "execute_result"
    }
   ],
   "source": [
    "classes['Status']"
   ]
  },
  {
   "cell_type": "markdown",
   "metadata": {},
   "source": [
    "We want to remove rows that have either `1` or `3` in the status column. We don't have a row selection function already defined to select rows that have one of several discrete values, so we will create one:"
   ]
  },
  {
   "cell_type": "code",
   "execution_count": 13,
   "metadata": {
    "collapsed": false
   },
   "outputs": [
    {
     "name": "stdout",
     "output_type": "stream",
     "text": [
      "(15566,)\n",
      "[(0, 13806), (1, 1612), (2, 144), (3, 4)]\n",
      "\n",
      "(13950,)\n",
      "[(0, 13806), (2, 144)]\n"
     ]
    }
   ],
   "source": [
    "def row_val_in(M, col_name, vals):\n",
    "    return np.logical_or(M[col_name] == vals[0], M[col_name] == vals[1])\n",
    "\n",
    "print data.shape\n",
    "print Counter(data['Status']).most_common()\n",
    "print\n",
    "\n",
    "arguments = [{'func': row_val_in, 'vals': [1, 3], 'col_name': 'Status'}]\n",
    "data2 = diogenes.modify.remove_rows_where(data, arguments)\n",
    "\n",
    "print data2.shape\n",
    "print Counter(data2['Status']).most_common()"
   ]
  },
  {
   "cell_type": "markdown",
   "metadata": {},
   "source": [
    "## Feature Generation\n",
    "\n",
    "We can also create new features based on existing data. We'll start out by generating a feature that calculates the distance of the service request from Cloud Gate in downtown Chicago `(41.882773, -87.623304)` using :func:`diogenes.modify.modify.distance_from_point`."
   ]
  },
  {
   "cell_type": "code",
   "execution_count": 14,
   "metadata": {
    "collapsed": false
   },
   "outputs": [
    {
     "name": "stdout",
     "output_type": "stream",
     "text": [
      "[ 12.37824118  13.37711223  18.95988034  26.2061016   20.18279666\n",
      "  12.08154288  17.63119029  21.29986356   8.09220669  11.27721597]\n"
     ]
    }
   ],
   "source": [
    "dist_from_cloud_gate = diogenes.modify.distance_from_point(41.882773, -87.623304, data['Latitude'], data['Longitude'])\n",
    "print dist_from_cloud_gate[:10]"
   ]
  },
  {
   "cell_type": "markdown",
   "metadata": {},
   "source": [
    "Now we'll put those distances into 10 bins using :func:`diogenes.modify.modify.generate_bin`."
   ]
  },
  {
   "cell_type": "code",
   "execution_count": 15,
   "metadata": {
    "collapsed": false
   },
   "outputs": [
    {
     "name": "stdout",
     "output_type": "stream",
     "text": [
      "[4, 4, 6, 9, 7, 4, 6, 7, 2, 4]\n"
     ]
    }
   ],
   "source": [
    "dist_binned = diogenes.modify.generate_bin(dist_from_cloud_gate, 10)\n",
    "print dist_binned[:10]"
   ]
  },
  {
   "cell_type": "markdown",
   "metadata": {},
   "source": [
    "Now we'll make a binary feature that is true if and only if the tree is in a parkway in ward 10 using :func:`diogenes.modify.modify.where_all_are_true` (which has similar syntax to the selection functions)."
   ]
  },
  {
   "cell_type": "code",
   "execution_count": 16,
   "metadata": {
    "collapsed": false
   },
   "outputs": [
    {
     "name": "stdout",
     "output_type": "stream",
     "text": [
      "['' 'Alley' 'Parkway' 'Vacant Lot']\n"
     ]
    }
   ],
   "source": [
    "print classes['If Yes, where is the debris located?']"
   ]
  },
  {
   "cell_type": "markdown",
   "metadata": {},
   "source": [
    "We note that \"Parkway\" is category 2, so we will select items that equal 2 in the \"If Yes, where is the debris located?\" column and 10 in the \"Ward\" column."
   ]
  },
  {
   "cell_type": "code",
   "execution_count": 17,
   "metadata": {
    "collapsed": false
   },
   "outputs": [
    {
     "name": "stdout",
     "output_type": "stream",
     "text": [
      "(array([    3,   149,   174,   248,   274,   277,   598,   672,   675,\n",
      "         698,   796,   945,   949,   963,  1061,  1184,  1206,  1408,\n",
      "        1509,  1799,  1902,  2077,  2177,  2185,  2193,  2213,  2215,\n",
      "        2230,  2341,  2439,  2444,  2562,  2668,  2683,  2790,  2807,\n",
      "        2943,  3181,  3189,  3230,  3232,  3235,  3236,  3237,  3339,\n",
      "        3345,  3603,  3609,  3624,  3639,  3824,  3950,  3979,  3998,\n",
      "        4002,  4005,  4208,  4224,  4274,  4378,  4391,  4440,  4446,\n",
      "        4460,  4486,  4557,  4558,  4630,  4751,  4893,  5074,  5190,\n",
      "        5224,  5266,  5288,  5296,  5328,  5372,  5373,  5399,  5531,\n",
      "        5603,  5613,  5728,  5729,  5819,  6040,  6052,  6056,  6191,\n",
      "        6192,  6517,  6528,  6593,  6682,  7038,  7376,  7387,  7397,\n",
      "        7398,  7600,  7883,  7884,  7948,  8132,  8177,  8344,  8499,\n",
      "        8516,  8682,  8691,  8699,  8718,  8773,  8776,  8912,  8955,\n",
      "        9333,  9424,  9435,  9501,  9518,  9681, 10363, 10731, 10732,\n",
      "       10735, 11107, 11259, 11268, 11288, 11582, 11590, 11777, 11956,\n",
      "       12064, 12135, 13028, 13067, 13402, 13493, 13603, 13787, 14093,\n",
      "       14466, 14484, 14553, 14618, 14625, 14632, 14915, 15248, 15356,\n",
      "       15364, 15407]),)\n"
     ]
    }
   ],
   "source": [
    "arguments = [{'func': diogenes.modify.row_val_eq, \n",
    "              'col_name': 'If Yes, where is the debris located?',\n",
    "              'vals': 2},\n",
    "             {'func': diogenes.modify.row_val_eq,\n",
    "              'col_name': 'Ward',\n",
    "              'vals': 10}]\n",
    "parkway_in_ward_10 = diogenes.modify.where_all_are_true(data, arguments)\n",
    "print np.where(parkway_in_ward_10)"
   ]
  },
  {
   "cell_type": "markdown",
   "metadata": {},
   "source": [
    "Finally, we'll add all of our generated features to our data using :func:`diogenes.utils.append_cols`"
   ]
  },
  {
   "cell_type": "code",
   "execution_count": 18,
   "metadata": {
    "collapsed": false
   },
   "outputs": [
    {
     "name": "stdout",
     "output_type": "stream",
     "text": [
      "[('Creation Date', '<M8[ns]'), ('Status', '<i8'), ('Completion Date', '<M8[ns]'), ('Service Request Number', '<i8'), ('If Yes, where is the debris located?', '<i8'), ('Current Activity', '<i8'), ('Most Recent Action', '<i8'), ('Street Address', '<i8'), ('ZIP Code', '<f8'), ('X Coordinate', '<f8'), ('Y Coordinate', '<f8'), ('Ward', '<f8'), ('Police District', '<f8'), ('Community Area', '<f8'), ('Latitude', '<f8'), ('Longitude', '<f8'), ('Location', '<i8'), ('dist_from_cloud_gate', '<f8'), ('dist_binned', '<i8'), ('parkway_in_ward_10', '?')]\n"
     ]
    }
   ],
   "source": [
    "data = diogenes.utils.append_cols(data, [dist_from_cloud_gate, dist_binned, parkway_in_ward_10],\n",
    "                                  ['dist_from_cloud_gate', 'dist_binned', 'parkway_in_ward_10'])\n",
    "print data.dtype"
   ]
  },
  {
   "cell_type": "markdown",
   "metadata": {},
   "source": [
    "## Last steps\n",
    "Now, all we have to do is make remove the \"Status\" column from the rest of the data (along with the highly correlated \"Completion Date\") and we're ready to run an experiment."
   ]
  },
  {
   "cell_type": "code",
   "execution_count": 19,
   "metadata": {
    "collapsed": false
   },
   "outputs": [
    {
     "data": {
      "text/plain": [
       "[Trial(clf=<class 'sklearn.ensemble.forest.RandomForestClassifier'>, clf_params={}, subset=<class 'diogenes.grid_search.subset.SubsetNoSubset'>, subset_params={}, cv=<class 'sklearn.cross_validation.KFold'>, cv_params={})]"
      ]
     },
     "execution_count": 19,
     "metadata": {},
     "output_type": "execute_result"
    }
   ],
   "source": [
    "labels = data['Status']\n",
    "M = diogenes.utils.remove_cols(data, ['Status', 'Completion Date'])\n",
    "exp = diogenes.grid_search.experiment.Experiment(M, labels)\n",
    "exp.run()"
   ]
  },
  {
   "cell_type": "code",
   "execution_count": null,
   "metadata": {
    "collapsed": false
   },
   "outputs": [],
   "source": []
  }
 ],
 "metadata": {
  "kernelspec": {
   "display_name": "Python 2",
   "language": "python",
   "name": "python2"
  },
  "language_info": {
   "codemirror_mode": {
    "name": "ipython",
    "version": 2
   },
   "file_extension": ".py",
   "mimetype": "text/x-python",
   "name": "python",
   "nbconvert_exporter": "python",
   "pygments_lexer": "ipython2",
   "version": "2.7.10"
  }
 },
 "nbformat": 4,
 "nbformat_minor": 0
}
