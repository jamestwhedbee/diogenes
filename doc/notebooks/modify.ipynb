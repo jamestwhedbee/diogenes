{
 "metadata": {
  "name": "",
  "signature": "sha256:6616d73a2efed44b5823d56686141a85e19b4f9bd9f788cb4b1f6264c1109087"
 },
 "nbformat": 3,
 "nbformat_minor": 0,
 "worksheets": [
  {
   "cells": [
    {
     "cell_type": "markdown",
     "metadata": {},
     "source": [
      "# The Modify Module\n",
      "\n",
      ":mod:`diogenes.modify` provides tools for manipulating arrays and generating features. \n",
      "\n",
      "* Cleaning\n",
      "    * :func:`diogenes.modify.modify.replace_missing_vals`\n",
      "    * :func:`diogenes.modify.modify.label_encode`\n",
      "* Selection\n",
      "    * :func:`diogenes.modify.modify.choose_cols_where`\n",
      "    * :func:`diogenes.modify.modify.choose_rows_where`\n",
      "    * :func:`diogenes.modify.modify.remove_cols_where`\n",
      "    * :func:`diogenes.modify.modify.remove_rows_where`\n",
      "* Feature generation\n",
      "    * :func:`diogenes.modify.modify.generate_bin`\n",
      "    * :func:`diogenes.modify.modify.normalize`\n",
      "    * :func:`diogenes.modify.modify.combine_cols`\n",
      "    * :func:`diogenes.modify.modify.distance_from_point`\n",
      "    * :func:`diogenes.modify.modify.where_all_are_true`  "
     ]
    },
    {
     "cell_type": "markdown",
     "metadata": {},
     "source": [
      "## In-place Cleaning\n",
      "\n",
      "Diogenes provides two functions for data cleaning:\n",
      "\n",
      "* :func:`diogenes.modify.modify.replace_missing_vals`, which replaces missing values with valid onces.\n",
      "* :func:`diogenes.modify.modify.label_encode` which replaces strings with corresponding integers.\n",
      "\n",
      "For this example, we'll look at Chicago's \"311 Service Requests - Tree Debris\" data on the Chicago data portal (https://data.cityofchicago.org/)"
     ]
    },
    {
     "cell_type": "code",
     "collapsed": false,
     "input": [
      "import diogenes\n",
      "\n",
      "data = diogenes.read.open_csv_url('https://data.cityofchicago.org/api/views/mab8-y9h3/rows.csv?accessType=DOWNLOAD', \n",
      "                                  parse_datetimes=['Creation Date', 'Completion Date'])"
     ],
     "language": "python",
     "metadata": {},
     "outputs": [],
     "prompt_number": 51
    },
    {
     "cell_type": "markdown",
     "metadata": {},
     "source": [
      "The last row of this data set repeats the labels. We're going to go ahead and omit it."
     ]
    },
    {
     "cell_type": "code",
     "collapsed": false,
     "input": [
      "data = data[:-1]"
     ],
     "language": "python",
     "metadata": {},
     "outputs": [],
     "prompt_number": 52
    },
    {
     "cell_type": "code",
     "collapsed": false,
     "input": [
      "data.dtype"
     ],
     "language": "python",
     "metadata": {},
     "outputs": [
      {
       "metadata": {},
       "output_type": "pyout",
       "prompt_number": 53,
       "text": [
        "dtype((numpy.record, [('Creation Date', '<M8[ns]'), ('Status', 'O'), ('Completion Date', '<M8[ns]'), ('Service Request Number', 'O'), ('Type of Service Request', 'O'), ('If Yes, where is the debris located?', 'O'), ('Current Activity', 'O'), ('Most Recent Action', 'O'), ('Street Address', 'O'), ('ZIP Code', '<f8'), ('X Coordinate', '<f8'), ('Y Coordinate', '<f8'), ('Ward', '<f8'), ('Police District', '<f8'), ('Community Area', '<f8'), ('Latitude', '<f8'), ('Longitude', '<f8'), ('Location', 'O')]))"
       ]
      }
     ],
     "prompt_number": 53
    },
    {
     "cell_type": "markdown",
     "metadata": {},
     "source": [
      "We're going to predict whether a job is still open, so our label will ultimately be the \"Status\" column. "
     ]
    },
    {
     "cell_type": "code",
     "collapsed": false,
     "input": [
      "from collections import Counter\n",
      "print Counter(data['Status']).most_common()"
     ],
     "language": "python",
     "metadata": {},
     "outputs": [
      {
       "output_type": "stream",
       "stream": "stdout",
       "text": [
        "[('Completed', 94286), ('Completed - Dup', 13899), ('Open', 114), ('Open - Dup', 8)]\n"
       ]
      }
     ],
     "prompt_number": 54
    },
    {
     "cell_type": "markdown",
     "metadata": {},
     "source": [
      "We'll remove the label from the rest of the data later. First, let's do some cleaning. Notice that we have some missing data for our floating point variables (encoded as numpy.nan)"
     ]
    },
    {
     "cell_type": "code",
     "collapsed": false,
     "input": [
      "import numpy as np\n",
      "print sum(np.isnan(data['ZIP Code']))\n",
      "print sum(np.isnan(data['Ward']))\n",
      "print sum(np.isnan(data['X Coordinate']))"
     ],
     "language": "python",
     "metadata": {},
     "outputs": [
      {
       "output_type": "stream",
       "stream": "stdout",
       "text": [
        "270\n",
        "31"
       ]
      },
      {
       "output_type": "stream",
       "stream": "stdout",
       "text": [
        "\n",
        "39"
       ]
      },
      {
       "output_type": "stream",
       "stream": "stdout",
       "text": [
        "\n"
       ]
      }
     ],
     "prompt_number": 55
    },
    {
     "cell_type": "markdown",
     "metadata": {},
     "source": [
      "Sklearn can't tolerate these missing values, so we have to do something with them. Probably, a statistically sound thing to do with this data would be to leave these rows out, but for pedagogical purposes, let's assume it makes sense to impute the data. We can do that with :func:`diogenes.modify.modify.replace_missing_vals`. \n",
      "\n",
      "We could, for instance, replace every nan with a 0:"
     ]
    },
    {
     "cell_type": "code",
     "collapsed": false,
     "input": [
      "data_with_zeros = diogenes.modify.replace_missing_vals(data, strategy='constant', constant=0)\n",
      "print sum(np.isnan(data_with_zeros['ZIP Code']))\n",
      "print sum(data_with_zeros['ZIP Code'] == 0)"
     ],
     "language": "python",
     "metadata": {},
     "outputs": [
      {
       "output_type": "stream",
       "stream": "stdout",
       "text": [
        "0\n",
        "277"
       ]
      },
      {
       "output_type": "stream",
       "stream": "stdout",
       "text": [
        "\n"
       ]
      }
     ],
     "prompt_number": 56
    },
    {
     "cell_type": "markdown",
     "metadata": {},
     "source": [
      "Looks like there were a few entries that had 0 for a zip code already.\n",
      "\n",
      "For the purposes of this tutorial, we will go ahead and replace missing values with the most frequent value in the column:"
     ]
    },
    {
     "cell_type": "code",
     "collapsed": false,
     "input": [
      "data = diogenes.modify.replace_missing_vals(data, strategy='most_frequent')"
     ],
     "language": "python",
     "metadata": {},
     "outputs": [],
     "prompt_number": 57
    },
    {
     "cell_type": "markdown",
     "metadata": {},
     "source": [
      "Our data also has a number of string columns. Strings must be converted to numbers before Scikit-Learn can analyze them, so we will use :func:`diogenes.modify.modify.label_encode` to convert them"
     ]
    },
    {
     "cell_type": "code",
     "collapsed": false,
     "input": [
      "print Counter(data['If Yes, where is the debris located?']).most_common()\n",
      "data, classes = diogenes.modify.label_encode(data)\n",
      "print Counter(data['If Yes, where is the debris located?']).most_common()\n",
      "print classes['If Yes, where is the debris located?']"
     ],
     "language": "python",
     "metadata": {},
     "outputs": [
      {
       "output_type": "stream",
       "stream": "stdout",
       "text": [
        "[('Parkway', 44303), ('Alley', 43064), ('', 16130), ('Vacant Lot', 4810)]\n",
        "[(2, 44303), (1, 43064), (0, 16130), (3, 4810)]"
       ]
      },
      {
       "output_type": "stream",
       "stream": "stdout",
       "text": [
        "\n",
        "['' 'Alley' 'Parkway' 'Vacant Lot']\n"
       ]
      }
     ],
     "prompt_number": 58
    },
    {
     "cell_type": "markdown",
     "metadata": {},
     "source": [
      "Note that `classes` is a dictionary of arrays where each key is the column name and each value is an array of which string each number represents. For example, if we wanted to find out what category `1` represents, we would look at:"
     ]
    },
    {
     "cell_type": "code",
     "collapsed": false,
     "input": [
      "classes['If Yes, where is the debris located?'][1]"
     ],
     "language": "python",
     "metadata": {},
     "outputs": [
      {
       "metadata": {},
       "output_type": "pyout",
       "prompt_number": 59,
       "text": [
        "'Alley'"
       ]
      }
     ],
     "prompt_number": 59
    },
    {
     "cell_type": "markdown",
     "metadata": {},
     "source": [
      "and find that category 1 is 'Alley'"
     ]
    },
    {
     "cell_type": "markdown",
     "metadata": {},
     "source": [
      "## Selection\n",
      "\n",
      "Diogenes provides a number of functions to retain only columns and rows matching a specific criteria:\n",
      "\n",
      "* :func:`diogenes.modify.modify.choose_cols_where`\n",
      "* :func:`diogenes.modify.modify.remove_cols_where`\n",
      "* :func:`diogenes.modify.modify.choose_rows_where`\n",
      "* :func:`diogenes.modify.modify.remove_rows_where`\n",
      "\n",
      "These are explained in detail in the module documentation for :mod:`diogenes.modify.modify`. Explaining all the different things you can do with these selection operators is outside the scope of this tutorial.\n",
      "\n",
      "We'll start out by removing any columns for which every row is the same value by employing the :func:`diogenes.modify.modify.col_val_eq_any` column selection function:"
     ]
    },
    {
     "cell_type": "code",
     "collapsed": false,
     "input": [
      "print data.dtype.names\n",
      "print\n",
      "print Counter(data['Type of Service Request'])\n",
      "print\n",
      "\n",
      "arguments = [{'func': diogenes.modify.col_val_eq_any, 'vals': None}]\n",
      "data = diogenes.modify.remove_cols_where(data, arguments)\n",
      "\n",
      "print data.dtype.names"
     ],
     "language": "python",
     "metadata": {},
     "outputs": [
      {
       "output_type": "stream",
       "stream": "stdout",
       "text": [
        "('Creation Date', 'Status', 'Completion Date', 'Service Request Number', 'Type of Service Request', 'If Yes, where is the debris located?', 'Current Activity', 'Most Recent Action', 'Street Address', 'ZIP Code', 'X Coordinate', 'Y Coordinate', 'Ward', 'Police District', 'Community Area', 'Latitude', 'Longitude', 'Location')\n",
        "\n",
        "Counter({0: 108307})"
       ]
      },
      {
       "output_type": "stream",
       "stream": "stdout",
       "text": [
        "\n",
        "\n",
        "('Creation Date', 'Status', 'Completion Date', 'Service Request Number', 'If Yes, where is the debris located?', 'Current Activity', 'Most Recent Action', 'Street Address', 'ZIP Code', 'X Coordinate', 'Y Coordinate', 'Ward', 'Police District', 'Community Area', 'Latitude', 'Longitude', 'Location')"
       ]
      },
      {
       "output_type": "stream",
       "stream": "stdout",
       "text": [
        "\n"
       ]
      }
     ],
     "prompt_number": 60
    },
    {
     "cell_type": "markdown",
     "metadata": {},
     "source": [
      "Notice that \"Type of Service Request\" has been removed, since every value in the column was the same\n",
      "\n",
      "Next, let's assume that we're only interested in requests made during the year 2015 and select only those rows using the :func:`diogenes.modify.modify.row_val_between` row selection function:"
     ]
    },
    {
     "cell_type": "code",
     "collapsed": false,
     "input": [
      "print data.shape\n",
      "print data['Creation Date'].min()\n",
      "print data['Creation Date'].max()\n",
      "print\n",
      "\n",
      "arguments = [{'func': diogenes.modify.row_val_between, \n",
      "              'vals': [np.datetime64('2015-01-01T00:00:00', 'ns'), np.datetime64('2016-01-01T00:00:00', 'ns')], \n",
      "              'col_name': 'Creation Date'}]\n",
      "data = diogenes.modify.choose_rows_where(data, arguments)\n",
      "\n",
      "print data.shape\n",
      "print data['Creation Date'].min()\n",
      "print data['Creation Date'].max()"
     ],
     "language": "python",
     "metadata": {},
     "outputs": [
      {
       "output_type": "stream",
       "stream": "stdout",
       "text": [
        "(108307,)\n",
        "2004-07-20T19:00:00.000000000-0500\n",
        "2015-10-31T19:00:00.000000000-0500\n",
        "\n",
        "(15380,)\n",
        "2015-01-01T18:00:00.000000000-0600\n",
        "2015-10-31T19:00:00.000000000-0500\n"
       ]
      }
     ],
     "prompt_number": 61
    },
    {
     "cell_type": "markdown",
     "metadata": {},
     "source": [
      "Finally, let's remove rows which the \"Status\" column claims are duplicates. We review our `classes` variable to find:"
     ]
    },
    {
     "cell_type": "code",
     "collapsed": false,
     "input": [
      "classes['Status']"
     ],
     "language": "python",
     "metadata": {},
     "outputs": [
      {
       "metadata": {},
       "output_type": "pyout",
       "prompt_number": 62,
       "text": [
        "array(['Completed', 'Completed - Dup', 'Open', 'Open - Dup'], dtype=object)"
       ]
      }
     ],
     "prompt_number": 62
    },
    {
     "cell_type": "markdown",
     "metadata": {},
     "source": [
      "We want to remove rows that have either `1` or `3` in the status column. We don't have a row selection function already defined to select rows that have one of several discrete values, so we will create one:"
     ]
    },
    {
     "cell_type": "code",
     "collapsed": false,
     "input": [
      "def row_val_in(M, col_name, vals):\n",
      "    return np.logical_or(M[col_name] == vals[0], M[col_name] == vals[1])\n",
      "\n",
      "print data.shape\n",
      "print Counter(data['Status']).most_common()\n",
      "print\n",
      "\n",
      "arguments = [{'func': row_val_in, 'vals': [1, 3], 'col_name': 'Status'}]\n",
      "data2 = diogenes.modify.remove_rows_where(data, arguments)\n",
      "\n",
      "print data2.shape\n",
      "print Counter(data2['Status']).most_common()"
     ],
     "language": "python",
     "metadata": {},
     "outputs": [
      {
       "output_type": "stream",
       "stream": "stdout",
       "text": [
        "(15380,)\n",
        "[(0, 13661), (1, 1599), (2, 114), (3, 6)]\n",
        "\n",
        "(13775,)\n",
        "[(0, 13661), (2, 114)]\n"
       ]
      }
     ],
     "prompt_number": 63
    },
    {
     "cell_type": "markdown",
     "metadata": {},
     "source": [
      "## Feature Generation\n",
      "\n",
      "We can also create new features based on existing data. We'll start out by generating a feature that calculates the distance of the service request from Cloud Gate in downtown Chicago `(41.882773, -87.623304)` using :func:`diogenes.modify.modify.distance_from_point`."
     ]
    },
    {
     "cell_type": "code",
     "collapsed": false,
     "input": [
      "dist_from_cloud_gate = diogenes.modify.distance_from_point(41.882773, -87.623304, data['Latitude'], data['Longitude'])\n",
      "print dist_from_cloud_gate[:10]"
     ],
     "language": "python",
     "metadata": {},
     "outputs": [
      {
       "output_type": "stream",
       "stream": "stdout",
       "text": [
        "[ 18.48754468   9.95679334  10.80453512  14.35591087  13.99126308\n",
        "  12.89855421   9.50211295  15.46302477  17.83725597  19.10774742]\n"
       ]
      }
     ],
     "prompt_number": 65
    },
    {
     "cell_type": "markdown",
     "metadata": {},
     "source": [
      "Now we'll put those distances into 10 bins using :func:`diogenes.modify.modify.generate_bin`."
     ]
    },
    {
     "cell_type": "code",
     "collapsed": false,
     "input": [
      "dist_binned = diogenes.modify.generate_bin(dist_from_cloud_gate, 10)\n",
      "print dist_binned[:10]"
     ],
     "language": "python",
     "metadata": {},
     "outputs": [
      {
       "output_type": "stream",
       "stream": "stdout",
       "text": [
        "[6, 3, 3, 5, 5, 4, 3, 5, 6, 7]\n"
       ]
      }
     ],
     "prompt_number": 66
    },
    {
     "cell_type": "markdown",
     "metadata": {},
     "source": [
      "Now we'll make a binary feature that is true if and only if the tree is in a parkway in ward 10 using :func:`diogenes.modify.modify.where_all_are_true` (which has similar syntax to the selection functions)."
     ]
    },
    {
     "cell_type": "code",
     "collapsed": false,
     "input": [
      "print classes['If Yes, where is the debris located?']"
     ],
     "language": "python",
     "metadata": {},
     "outputs": [
      {
       "output_type": "stream",
       "stream": "stdout",
       "text": [
        "['' 'Alley' 'Parkway' 'Vacant Lot']\n"
       ]
      }
     ],
     "prompt_number": 67
    },
    {
     "cell_type": "markdown",
     "metadata": {},
     "source": [
      "We note that \"Parkway\" is category 2, so we will select items that equal 2 in the \"If Yes, where is the debris located?\" column and 10 in the \"Ward\" column."
     ]
    },
    {
     "cell_type": "code",
     "collapsed": false,
     "input": [
      "arguments = [{'func': diogenes.modify.row_val_eq, \n",
      "              'col_name': 'If Yes, where is the debris located?',\n",
      "              'vals': 2},\n",
      "             {'func': diogenes.modify.row_val_eq,\n",
      "              'col_name': 'Ward',\n",
      "              'vals': 10}]\n",
      "parkway_in_ward_10 = diogenes.modify.where_all_are_true(data, arguments)\n",
      "print np.where(parkway_in_ward_10)"
     ],
     "language": "python",
     "metadata": {},
     "outputs": [
      {
       "output_type": "stream",
       "stream": "stdout",
       "text": [
        "(array([   54,   100,   105,   391,   473,   483,   484,   608,   710,\n",
        "         720,   787,   880,   995,  1024,  1205,  1304,  1664,  1730,\n",
        "        1869,  1971,  1989,  1995,  2001,  2002,  2029,  2160,  2244,\n",
        "        2252,  2432,  2453,  2505,  2596,  2612,  2796,  2985,  3004,\n",
        "        3079,  3090,  3091,  3105,  3107,  3135,  3150,  3398,  3401,\n",
        "        3470,  3475,  3629,  3750,  3753,  3807,  3814,  3817,  4019,\n",
        "        4039,  4063,  4176,  4222,  4228,  4276,  4285,  4292,  4310,\n",
        "        4332,  4462,  4638,  4675,  4958,  5014,  5026,  5120,  5165,\n",
        "        5166,  5168,  5176,  5212,  5221,  5286,  5473,  5508,  5577,\n",
        "        5578,  5723,  5853,  5866,  5887,  6002,  6098,  6129,  6270,\n",
        "        6473,  6509,  6553,  7204,  7205,  7206,  7207,  7405,  7760,\n",
        "        7773,  7774,  7979,  7991,  8141,  8272,  8303,  8429,  8499,\n",
        "        8547,  8577,  8579,  8588,  8693,  8759,  9122,  9207,  9208,\n",
        "        9312,  9322,  9510, 10162, 10565, 10581, 10584, 10920, 11051,\n",
        "       11117, 11160, 11387, 11397, 11517, 11742, 11872, 11949, 12854,\n",
        "       12871, 13201, 13355, 13362, 13583, 13944, 14293, 14297, 14385,\n",
        "       14441, 14444, 14463, 14735, 15062, 15169, 15177, 15225]),)\n"
       ]
      }
     ],
     "prompt_number": 68
    },
    {
     "cell_type": "markdown",
     "metadata": {},
     "source": [
      "Finally, we'll add all of our generated features to our data using :func:`diogenes.utils.append_cols`"
     ]
    },
    {
     "cell_type": "code",
     "collapsed": false,
     "input": [
      "data = diogenes.utils.append_cols(data, [dist_from_cloud_gate, dist_binned, parkway_in_ward_10],\n",
      "                                  ['dist_from_cloud_gate', 'dist_binned', 'parkway_in_ward_10'])\n",
      "print data.dtype"
     ],
     "language": "python",
     "metadata": {},
     "outputs": [
      {
       "output_type": "stream",
       "stream": "stdout",
       "text": [
        "[('Creation Date', '<M8[ns]'), ('Status', '<i8'), ('Completion Date', '<M8[ns]'), ('Service Request Number', '<i8'), ('If Yes, where is the debris located?', '<i8'), ('Current Activity', '<i8'), ('Most Recent Action', '<i8'), ('Street Address', '<i8'), ('ZIP Code', '<f8'), ('X Coordinate', '<f8'), ('Y Coordinate', '<f8'), ('Ward', '<f8'), ('Police District', '<f8'), ('Community Area', '<f8'), ('Latitude', '<f8'), ('Longitude', '<f8'), ('Location', '<i8'), ('dist_from_cloud_gate', '<f8'), ('dist_binned', '<i8'), ('parkway_in_ward_10', '?')]\n"
       ]
      }
     ],
     "prompt_number": 70
    },
    {
     "cell_type": "markdown",
     "metadata": {},
     "source": [
      "## Last steps\n",
      "Now, all we have to do is make remove the \"Status\" column from the rest of the data (along with the highly correlated \"Completion Date\") and we're ready to run an experiment."
     ]
    },
    {
     "cell_type": "code",
     "collapsed": false,
     "input": [
      "labels = data['Status']\n",
      "M = diogenes.utils.remove_cols(data, ['Status', 'Completion Date'])\n",
      "exp = diogenes.grid_search.experiment.Experiment(M, labels)\n",
      "exp.run()"
     ],
     "language": "python",
     "metadata": {},
     "outputs": [
      {
       "metadata": {},
       "output_type": "pyout",
       "prompt_number": 77,
       "text": [
        "[Trial(clf=<class 'sklearn.ensemble.forest.RandomForestClassifier'>, clf_params={}, subset=<class 'diogenes.grid_search.subset.SubsetNoSubset'>, subset_params={}, cv=<class 'sklearn.cross_validation.KFold'>, cv_params={})]"
       ]
      }
     ],
     "prompt_number": 77
    },
    {
     "cell_type": "code",
     "collapsed": false,
     "input": [],
     "language": "python",
     "metadata": {},
     "outputs": []
    }
   ],
   "metadata": {}
  }
 ]
}